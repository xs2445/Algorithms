{
  "nbformat": 4,
  "nbformat_minor": 0,
  "metadata": {
    "colab": {
      "provenance": [],
      "collapsed_sections": [],
      "authorship_tag": "ABX9TyNmZ7qhNdx4++Zd7t73zfPR",
      "include_colab_link": true
    },
    "kernelspec": {
      "name": "python3",
      "display_name": "Python 3"
    },
    "language_info": {
      "name": "python"
    }
  },
  "cells": [
    {
      "cell_type": "markdown",
      "metadata": {
        "id": "view-in-github",
        "colab_type": "text"
      },
      "source": [
        "<a href=\"https://colab.research.google.com/github/xs2445/Algorithms/blob/main/BinarySearchTree.ipynb\" target=\"_parent\"><img src=\"https://colab.research.google.com/assets/colab-badge.svg\" alt=\"Open In Colab\"/></a>"
      ]
    },
    {
      "cell_type": "markdown",
      "source": [
        "# BinarySearchTree\n",
        "\n",
        "| Idx | Difficulty | Title |\n",
        "|-----|-----|-----|\n",
        "|96|M|Unique Binary Search Trees|\n",
        "|98|M|Validate Binary Search Tree|\n",
        "|235|M|Lowest Common Ancestor of a Binary Search Tree|"
      ],
      "metadata": {
        "id": "vU7HCGgkynXC"
      }
    },
    {
      "cell_type": "markdown",
      "source": [
        "## 96 M Unique Binary Search Trees"
      ],
      "metadata": {
        "id": "RgZhEqg-zaOc"
      }
    },
    {
      "cell_type": "code",
      "source": [
        "# DP solution\n",
        "# take each node as the root and \n",
        "\n",
        "class Solution:\n",
        "    def numTrees(self, n: int) -> int:\n",
        "        if n == 0 or n == 1:\n",
        "            return 1\n",
        "\n",
        "        G = [0] * (n+1)\n",
        "        G[0], G[1] = 1, 1\n",
        "        for i in range(2, n+1):\n",
        "            for j in range(1, 1+i):\n",
        "                G[i] += G[j-1] * G[i-j]\n",
        "                \n",
        "        return G[n]\n",
        "\n",
        "# mathematic deduction\n",
        "# Catalan number https://en.wikipedia.org/wiki/Catalan_number\n",
        "class Solution(object):\n",
        "    def numTrees(self, n):\n",
        "        \"\"\"\n",
        "        :type n: int\n",
        "        :rtype: int\n",
        "        \"\"\"\n",
        "        C = 1\n",
        "        for i in range(0, n):\n",
        "            C = C * 2*(2*i+1)/(i+2)\n",
        "        return int(C)"
      ],
      "metadata": {
        "id": "MIHV4gQ0zcRm"
      },
      "execution_count": null,
      "outputs": []
    },
    {
      "cell_type": "markdown",
      "source": [
        "## 98 M Validate Binary Search Tree"
      ],
      "metadata": {
        "id": "qZVEDr7U99o7"
      }
    },
    {
      "cell_type": "code",
      "source": [
        "# Definition for a binary tree node.\n",
        "# class TreeNode:\n",
        "#     def __init__(self, val=0, left=None, right=None):\n",
        "#         self.val = val\n",
        "#         self.left = left\n",
        "#         self.right = right\n",
        "\n",
        "# recursion\n",
        "class Solution:\n",
        "    def isValidBST(self, root: Optional[TreeNode]) -> bool:\n",
        "        def helper(node, left_lim, right_lim):\n",
        "            if not node:\n",
        "                return True\n",
        "            if node.val >= right_lim or node.val <= left_lim:\n",
        "                return False\n",
        "            isleft = helper(node.left, left_lim, node.val)\n",
        "            isright = helper(node.right, node.val, right_lim)\n",
        "            return isleft and isright\n",
        "        return helper(root, -math.inf, math.inf)\n",
        "        "
      ],
      "metadata": {
        "id": "mwtSJVuzzcsS"
      },
      "execution_count": null,
      "outputs": []
    },
    {
      "cell_type": "markdown",
      "source": [
        "## 235 M Lowest Common Ancestor of a Binary Search Tree"
      ],
      "metadata": {
        "id": "7QZqjhnvXzyU"
      }
    },
    {
      "cell_type": "code",
      "source": [
        "# Definition for a binary tree node.\n",
        "# class TreeNode:\n",
        "#     def __init__(self, x):\n",
        "#         self.val = x\n",
        "#         self.left = None\n",
        "#         self.right = None\n",
        "\n",
        "class Solution:\n",
        "    def lowestCommonAncestor(self, root: 'TreeNode', p: 'TreeNode', q: 'TreeNode') -> 'TreeNode':\n",
        "        ans = None\n",
        "        def helper(node):\n",
        "            if not node:\n",
        "                return 0\n",
        "            mid = 1 if (node is p or node is q) else 0\n",
        "            left = helper(node.left)\n",
        "            right = helper(node.right)\n",
        "            # print(mid, left, right)\n",
        "            if mid + left + right > 1:\n",
        "                nonlocal ans\n",
        "                ans = node\n",
        "            return int(mid or left or right)\n",
        "        helper(root)\n",
        "        return ans"
      ],
      "metadata": {
        "id": "l9_Rad95zclB"
      },
      "execution_count": null,
      "outputs": []
    },
    {
      "cell_type": "code",
      "execution_count": null,
      "metadata": {
        "id": "DgNv4Bh7ylEa"
      },
      "outputs": [],
      "source": []
    }
  ]
}