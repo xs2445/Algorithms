{
  "nbformat": 4,
  "nbformat_minor": 0,
  "metadata": {
    "colab": {
      "provenance": [],
      "collapsed_sections": [],
      "authorship_tag": "ABX9TyPWrGK1e9KQpeHZRK0g8DhW",
      "include_colab_link": true
    },
    "kernelspec": {
      "name": "python3",
      "display_name": "Python 3"
    },
    "language_info": {
      "name": "python"
    }
  },
  "cells": [
    {
      "cell_type": "markdown",
      "metadata": {
        "id": "view-in-github",
        "colab_type": "text"
      },
      "source": [
        "<a href=\"https://colab.research.google.com/github/xs2445/Algorithms/blob/main/Recursion_%26_DivideAndConquer_%26_BackTracking.ipynb\" target=\"_parent\"><img src=\"https://colab.research.google.com/assets/colab-badge.svg\" alt=\"Open In Colab\"/></a>"
      ]
    },
    {
      "cell_type": "markdown",
      "source": [
        "# Recursion & DivideAndConquer & BackTracking\n",
        "\n",
        "| Idx | Difficulty | Title |\n",
        "|-----|-----|-----|\n",
        "|17|M|Letter Combinations of a Phone Number|\n",
        "|22|M|Generate Parentheses|\n",
        "|39|M|Combination Sum|\n",
        "|46|M|Permutations|\n",
        "|78|M|Subsets|\n",
        "|79|M|*Word Search|\n",
        "|226|H|Invert Binary Tree|\n",
        "|493|H|Reverse Pairs|\n",
        "\n",
        "\n",
        "\n"
      ],
      "metadata": {
        "id": "l82b3bKdKm_n"
      }
    },
    {
      "cell_type": "markdown",
      "source": [
        "## 17 M Letter Combinations of a Phone Number"
      ],
      "metadata": {
        "id": "_h9a3YyUYYZM"
      }
    },
    {
      "cell_type": "code",
      "source": [
        "# backtracking\n",
        "class Solution:\n",
        "    def letterCombinations(self, digits: str) -> List[str]:\n",
        "        combinations = []\n",
        "        if not digits:\n",
        "            return combinations\n",
        "        letters = {\"2\": \"abc\", \"3\": \"def\", \"4\": \"ghi\", \"5\": \"jkl\", \n",
        "                   \"6\": \"mno\", \"7\": \"pqrs\", \"8\": \"tuv\", \"9\": \"wxyz\"}\n",
        "        \n",
        "        def backtrack(index, path):\n",
        "            if len(path) == len(digits):\n",
        "                combinations.append(\"\".join(path))\n",
        "                return\n",
        "            possible_letters = letters[digits[index]]\n",
        "            for letter in possible_letters:\n",
        "                path.append(letter)\n",
        "                backtrack(index + 1, path)\n",
        "                path.pop()\n",
        "        \n",
        "        ########\n",
        "        # problem:\n",
        "        # if use backtrack(0,combination) won't work\n",
        "        # only backtrack(0,[]) works\n",
        "        # because [] here is \"path\", not \"combination\"!\n",
        "        ########\n",
        "        backtrack(0,[])\n",
        "        \n",
        "        return combinations"
      ],
      "metadata": {
        "id": "LVS7abh1KxcI"
      },
      "execution_count": null,
      "outputs": []
    },
    {
      "cell_type": "code",
      "source": [
        "a = \"ab\"\n",
        "for x in a:\n",
        "    print(x)\n",
        "for i in range(len(a)):\n",
        "    print(a[i])\n",
        "a[0] = 'c'"
      ],
      "metadata": {
        "colab": {
          "base_uri": "https://localhost:8080/",
          "height": 269
        },
        "id": "tB5_P17lbNpI",
        "outputId": "448db60f-1cf3-4b40-b1cd-b912e06eced3"
      },
      "execution_count": 7,
      "outputs": [
        {
          "output_type": "stream",
          "name": "stdout",
          "text": [
            "a\n",
            "b\n",
            "a\n",
            "b\n"
          ]
        },
        {
          "output_type": "error",
          "ename": "TypeError",
          "evalue": "ignored",
          "traceback": [
            "\u001b[0;31m---------------------------------------------------------------------------\u001b[0m",
            "\u001b[0;31mTypeError\u001b[0m                                 Traceback (most recent call last)",
            "\u001b[0;32m<ipython-input-7-7d668f700ecf>\u001b[0m in \u001b[0;36m<module>\u001b[0;34m\u001b[0m\n\u001b[1;32m      4\u001b[0m \u001b[0;32mfor\u001b[0m \u001b[0mi\u001b[0m \u001b[0;32min\u001b[0m \u001b[0mrange\u001b[0m\u001b[0;34m(\u001b[0m\u001b[0mlen\u001b[0m\u001b[0;34m(\u001b[0m\u001b[0ma\u001b[0m\u001b[0;34m)\u001b[0m\u001b[0;34m)\u001b[0m\u001b[0;34m:\u001b[0m\u001b[0;34m\u001b[0m\u001b[0;34m\u001b[0m\u001b[0m\n\u001b[1;32m      5\u001b[0m     \u001b[0mprint\u001b[0m\u001b[0;34m(\u001b[0m\u001b[0ma\u001b[0m\u001b[0;34m[\u001b[0m\u001b[0mi\u001b[0m\u001b[0;34m]\u001b[0m\u001b[0;34m)\u001b[0m\u001b[0;34m\u001b[0m\u001b[0;34m\u001b[0m\u001b[0m\n\u001b[0;32m----> 6\u001b[0;31m \u001b[0ma\u001b[0m\u001b[0;34m[\u001b[0m\u001b[0;36m0\u001b[0m\u001b[0;34m]\u001b[0m \u001b[0;34m=\u001b[0m \u001b[0;34m'c'\u001b[0m\u001b[0;34m\u001b[0m\u001b[0;34m\u001b[0m\u001b[0m\n\u001b[0m",
            "\u001b[0;31mTypeError\u001b[0m: 'str' object does not support item assignment"
          ]
        }
      ]
    },
    {
      "cell_type": "markdown",
      "source": [
        "## 22 M Generate Parentheses"
      ],
      "metadata": {
        "id": "MQHWzSUqgCmZ"
      }
    },
    {
      "cell_type": "code",
      "source": [
        "class Solution:\n",
        "    def generateParenthesis(self, n: int) -> List[str]:\n",
        "        ans = []\n",
        "        def backtrack(path, left, right):\n",
        "            if len(path) == 2*n:\n",
        "                ans.append(\"\".join(path))\n",
        "            # add \"(\" first\n",
        "            if left < n:\n",
        "                path.append(\"(\")\n",
        "                # go through all possibilities\n",
        "                backtrack(path, left+1, right)\n",
        "                # pop out the last character\n",
        "                path.pop()\n",
        "            # then lock the second characture as \")\"\n",
        "            if right < left:\n",
        "                path.append(\")\")\n",
        "                backtrack(path, left, right+1)\n",
        "                path.pop()\n",
        "        backtrack([], 0, 0)\n",
        "        return ans"
      ],
      "metadata": {
        "id": "O0QuKZCJKxYo"
      },
      "execution_count": null,
      "outputs": []
    },
    {
      "cell_type": "code",
      "source": [
        "a = []\n",
        "print(a)\n",
        "b = [2,3,4]\n",
        "a.append(b)\n",
        "print(a)\n",
        "c = [7]\n",
        "a.append(c)\n",
        "print(a)"
      ],
      "metadata": {
        "colab": {
          "base_uri": "https://localhost:8080/"
        },
        "id": "U5xMNzLWKxWO",
        "outputId": "28dd4f74-edcb-4b20-e96e-d898de929cdb"
      },
      "execution_count": 10,
      "outputs": [
        {
          "output_type": "stream",
          "name": "stdout",
          "text": [
            "[]\n",
            "[[2, 3, 4]]\n",
            "[[2, 3, 4], [7]]\n"
          ]
        }
      ]
    },
    {
      "cell_type": "markdown",
      "source": [
        "## 39 M Combination Sum"
      ],
      "metadata": {
        "id": "TqUgxYYq3AWs"
      }
    },
    {
      "cell_type": "code",
      "source": [
        "class Solution:\n",
        "    def combinationSum(self, candidates: List[int], target: int) -> List[List[int]]:\n",
        "        ans = []\n",
        "        def backtrack(path, idx, last_sum):\n",
        "            # nonlocal ans\n",
        "            if last_sum > target:\n",
        "                return\n",
        "            if last_sum == target:\n",
        "                # use path.copy() or path[:] to copy path\n",
        "                # otherwise the path is just a reference\n",
        "                ans.append(path.copy())\n",
        "                # seems like all candidates array is sorted\n",
        "                # no need for further search\n",
        "                return\n",
        "            for i, num in enumerate(candidates[idx:]):\n",
        "                path.append(num)\n",
        "                backtrack(path, i+idx, last_sum + num)\n",
        "                path.pop()\n",
        "        backtrack([], 0, 0)\n",
        "        \n",
        "        return ans\n",
        "            "
      ],
      "metadata": {
        "id": "TBadMZ-pKxUK"
      },
      "execution_count": null,
      "outputs": []
    },
    {
      "cell_type": "markdown",
      "source": [
        "## 46 M Permutations"
      ],
      "metadata": {
        "id": "PMWAAxwZ36k8"
      }
    },
    {
      "cell_type": "code",
      "source": [
        "# backtracking\n",
        "# swap any two elements at each step\n",
        "# then backtrack (swap back) after search of current configuration\n",
        "class Solution:\n",
        "    def permute(self, nums: List[int]) -> List[List[int]]:\n",
        "        \n",
        "        def backtrack(first):\n",
        "            if first == n:\n",
        "                output.append(nums[:])\n",
        "            for i in range(first, n):\n",
        "                nums[first], nums[i] = nums[i], nums[first]\n",
        "                backtrack(first+1)\n",
        "                # backtrack\n",
        "                nums[first], nums[i] = nums[i], nums[first]\n",
        "        n = len(nums)\n",
        "        output = []\n",
        "        backtrack(0)\n",
        "        return output"
      ],
      "metadata": {
        "id": "5SfC04PyKw5y"
      },
      "execution_count": null,
      "outputs": []
    },
    {
      "cell_type": "markdown",
      "source": [
        "## 78 M Subsets"
      ],
      "metadata": {
        "id": "c6n_0rVg-G0F"
      }
    },
    {
      "cell_type": "code",
      "source": [
        "# cascading\n",
        "class Solution:\n",
        "    def subsets(self, nums: List[int]) -> List[List[int]]:\n",
        "        output = [[]]\n",
        "        for num in nums:\n",
        "            output += [curr + [num] for curr in output]\n",
        "        return output\n",
        "\n",
        "# backtracking\n",
        "class Solution:\n",
        "    def subsets(self, nums: List[int]) -> List[List[int]]:\n",
        "\n",
        "        def backtrack(start, path):\n",
        "            ans.append(path[:])\n",
        "            for i in range(start, len(nums)):\n",
        "                path.append(nums[i])\n",
        "                # it's i+1, not start+1\n",
        "                backtrack(i+1, path)\n",
        "                path.pop()\n",
        "        \n",
        "        ans = []\n",
        "        backtrack(0,[])\n",
        "        return ans"
      ],
      "metadata": {
        "id": "G00YwQou4Eax"
      },
      "execution_count": null,
      "outputs": []
    },
    {
      "cell_type": "markdown",
      "source": [
        "## 79 M Word Search"
      ],
      "metadata": {
        "id": "ag4ZPPLUFoWq"
      }
    },
    {
      "cell_type": "code",
      "source": [
        "# DFS --- my solution\n",
        "# time limit exceeded\n",
        "# still don't know why\n",
        "\n",
        "class Solution:\n",
        "    def exist(self, board: List[List[str]], word: str) -> bool:\n",
        "        if not board:\n",
        "            return False\n",
        "        \n",
        "        def dfs(x, y, idx):\n",
        "            if idx == len(word):\n",
        "                return True\n",
        "            if x<0 or x>=len(board) or (y<0 or y>=len(board[0])) or board[x][y]!=word[idx]:\n",
        "                return False\n",
        "            temp = board[x][y]\n",
        "            board[x][y] = \"#\"\n",
        "            res = dfs(x+1,y,idx+1) or dfs(x-1,y,idx+1) or dfs(x,y+1,idx+1) or dfs(x,y-1,idx+1)\n",
        "            # for new_x, new_y in [[x+1,y],[x-1,y],[x,y+1],[x,y-1]]:\n",
        "            #     if dfs(new_x, new_y, idx+1):\n",
        "            #         return True\n",
        "            # backtrack\n",
        "            board[x][y] = temp\n",
        "            return res\n",
        "        \n",
        "        for i in range(len(board)):\n",
        "            for j in range(len(board[0])):\n",
        "                if dfs(i,j,0):\n",
        "                    return True\n",
        "        return False\n",
        "    \n",
        "    \n",
        "\n",
        "# DFS solution in discussion\n",
        "# will not exceed time limit\n",
        "class Solution:\n",
        "\n",
        "    def exist(self, board, word):\n",
        "        if not board:\n",
        "            return False\n",
        "        for i in range(len(board)):\n",
        "            for j in range(len(board[0])):\n",
        "                if self.dfs(board, i, j, word):\n",
        "                    return True\n",
        "        return False\n",
        "\n",
        "    # check whether can find word, start at (i,j) position    \n",
        "    def dfs(self, board, i, j, word):\n",
        "        if len(word) == 0: # all the characters are checked\n",
        "            return True\n",
        "        if i<0 or i>=len(board) or j<0 or j>=len(board[0]) or word[0]!=board[i][j]:\n",
        "            return False\n",
        "        tmp = board[i][j]  # first character is found, check the remaining part\n",
        "        board[i][j] = \"#\"  # avoid visit agian \n",
        "        # check whether can find \"word\" along one direction\n",
        "        res = self.dfs(board, i+1, j, word[1:]) or self.dfs(board, i-1, j, word[1:]) \\\n",
        "        or self.dfs(board, i, j+1, word[1:]) or self.dfs(board, i, j-1, word[1:])\n",
        "        board[i][j] = tmp\n",
        "        return res\n",
        "            \n",
        "            \n",
        "            "
      ],
      "metadata": {
        "id": "AmRcMbQtFpXP"
      },
      "execution_count": null,
      "outputs": []
    },
    {
      "cell_type": "markdown",
      "source": [
        "## 226 E Invert Binary Tree"
      ],
      "metadata": {
        "id": "yM4d674gYzFi"
      }
    },
    {
      "cell_type": "code",
      "source": [
        "# Definition for a binary tree node.\n",
        "# class TreeNode:\n",
        "#     def __init__(self, val=0, left=None, right=None):\n",
        "#         self.val = val\n",
        "#         self.left = left\n",
        "#         self.right = right\n",
        "class Solution:\n",
        "    def invertTree(self, root: Optional[TreeNode]) -> Optional[TreeNode]:\n",
        "        \n",
        "        def helper(node):\n",
        "            if not node:\n",
        "                return None\n",
        "            left = helper(node.left)\n",
        "            right = helper(node.right)\n",
        "            node.right = left\n",
        "            node.left = right\n",
        "            return node\n",
        "        \n",
        "        helper(root)\n",
        "        return root\n",
        "            "
      ],
      "metadata": {
        "id": "yck0fjAcYy0z"
      },
      "execution_count": null,
      "outputs": []
    },
    {
      "cell_type": "markdown",
      "source": [
        "## 493 H Reverse Pairs"
      ],
      "metadata": {
        "id": "yi62qD_kKs_E"
      }
    },
    {
      "cell_type": "code",
      "execution_count": null,
      "metadata": {
        "id": "iikdvLJ-KmCX"
      },
      "outputs": [],
      "source": [
        "class Solution:\n",
        "    def reversePairs(self, nums: List[int]) -> int:\n",
        "        \n",
        "        \n",
        "        def mergeSort(ary):\n",
        "            nonlocal count\n",
        "            if len(ary)<=1:\n",
        "                return\n",
        "            mid = len(ary)//2\n",
        "            leftAry = ary[:mid]\n",
        "            rightAry = ary[mid:]\n",
        "            \n",
        "            mergeSort(leftAry)\n",
        "            mergeSort(rightAry)\n",
        "            \n",
        "            # find pairs\n",
        "            i = j = 0\n",
        "            while i < len(leftAry) and j < len(rightAry):\n",
        "                if leftAry[i] > 2*rightAry[j]:\n",
        "                    count += len(rightAry)-j\n",
        "                    i += 1\n",
        "                else:\n",
        "                    j += 1\n",
        "            \n",
        "            # merge sort\n",
        "            \n",
        "            i=j=k=0\n",
        "            while i<len(leftAry) and j<len(rightAry):\n",
        "                if leftAry[i] > rightAry[j]:\n",
        "                    ary[k] = leftAry[i]\n",
        "                    k+=1\n",
        "                    i+=1\n",
        "                else:\n",
        "                    ary[k] = rightAry[j]\n",
        "                    k+=1\n",
        "                    j+=1\n",
        "            while i<len(leftAry):\n",
        "                ary[k] = leftAry[i]\n",
        "                k+=1\n",
        "                i+=1\n",
        "            while j<len(rightAry):\n",
        "                ary[k] = rightAry[j]\n",
        "                k+=1\n",
        "                j+=1\n",
        "        count = 0\n",
        "        mergeSort(nums)\n",
        "        # print(nums)\n",
        "        return count"
      ]
    }
  ]
}