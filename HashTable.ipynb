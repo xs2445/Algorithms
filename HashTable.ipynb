{
  "nbformat": 4,
  "nbformat_minor": 0,
  "metadata": {
    "colab": {
      "provenance": [],
      "collapsed_sections": [],
      "authorship_tag": "ABX9TyPG1hHWWcezBJ2f0MORPi4X",
      "include_colab_link": true
    },
    "kernelspec": {
      "name": "python3",
      "display_name": "Python 3"
    },
    "language_info": {
      "name": "python"
    }
  },
  "cells": [
    {
      "cell_type": "markdown",
      "metadata": {
        "id": "view-in-github",
        "colab_type": "text"
      },
      "source": [
        "<a href=\"https://colab.research.google.com/github/xs2445/Algorithms/blob/main/HashTable.ipynb\" target=\"_parent\"><img src=\"https://colab.research.google.com/assets/colab-badge.svg\" alt=\"Open In Colab\"/></a>"
      ]
    },
    {
      "cell_type": "markdown",
      "source": [
        "# Hash Table\n",
        "\n",
        "| Idx | Difficulty | Title |\n",
        "|-----|-----|-----|\n",
        "|1|E|2 Sum|\n",
        "|15|M|3 Sum|\n",
        "|18|M|4 sum|\n",
        "|49|M|Group Anagrams|\n",
        "|242|E|Valid Anagram|"
      ],
      "metadata": {
        "id": "8qnPyHuVDZls"
      }
    },
    {
      "cell_type": "markdown",
      "source": [
        "## 1 [E] two sum"
      ],
      "metadata": {
        "id": "1QID7k7tEdod"
      }
    },
    {
      "cell_type": "code",
      "source": [
        "class Solution:\n",
        "    def twoSum(self, nums: List[int], target: int) -> List[int]:\n",
        "        hashtable = {}\n",
        "        for idx, num in enumerate(nums):\n",
        "            hashtable[num] = idx\n",
        "            if target-num in hashtable and hashtable[target-num] != idx:\n",
        "                return [idx, hashtable[target-num]]"
      ],
      "metadata": {
        "id": "8SCd-RK9EdOo"
      },
      "execution_count": null,
      "outputs": []
    },
    {
      "cell_type": "markdown",
      "source": [
        "## 15 M Three Sum \n"
      ],
      "metadata": {
        "id": "okZ4-WgXEzbf"
      }
    },
    {
      "cell_type": "code",
      "execution_count": null,
      "metadata": {
        "id": "Evxn996uDQc7"
      },
      "outputs": [],
      "source": [
        "# double pointer\n",
        "class Solution:\n",
        "    def threeSum(self, nums: List[int]) -> List[List[int]]:\n",
        "        def twoSum():\n",
        "            pl, pr = idx+1, len(nums)-1\n",
        "            while pl < pr:\n",
        "                sum_temp = nums[pl] + nums[pr] + nums[idx]\n",
        "                if sum_temp > 0:\n",
        "                    pr -= 1\n",
        "                elif sum_temp < 0:\n",
        "                    pl += 1\n",
        "                else:\n",
        "                    sums.append([nums[idx], nums[pl], nums[pr]])\n",
        "                    pr -= 1\n",
        "                    pl += 1\n",
        "                    while(pl < pr and nums[pl] == nums[pl-1]):\n",
        "                        pl += 1\n",
        "        nums.sort()\n",
        "        sums = []\n",
        "        for idx in range(len(nums)):\n",
        "            if nums[idx]>0:\n",
        "                return sums\n",
        "            if idx == 0 or nums[idx] != nums[idx-1]:\n",
        "                twoSum()\n",
        "        \n",
        "        return sums"
      ]
    },
    {
      "cell_type": "code",
      "source": [
        "# hashtable sort\n",
        "# very slow\n",
        "class Solution:\n",
        "    def threeSum(self, nums: List[int]) -> List[List[int]]:\n",
        "        \n",
        "        def twoSum():\n",
        "            hashtable = {}\n",
        "            j = i+1\n",
        "            while j < len(nums):\n",
        "                complement = -(nums[j] + nums[i])\n",
        "                if complement in hashtable and hashtable[complement] != j:\n",
        "                    sums.append([nums[i], nums[j], complement])\n",
        "                    while j+1 < len(nums) and nums[j+1] == nums[j]:\n",
        "                        j += 1\n",
        "                hashtable[nums[j]] = j\n",
        "                j += 1\n",
        "                    \n",
        "        sums = []\n",
        "        nums.sort()\n",
        "        for i in range(len(nums)):\n",
        "            if nums[i] > 0:\n",
        "                return sums\n",
        "            if i==0 or nums[i] != nums[i-1]:\n",
        "                twoSum()\n",
        "        return sums"
      ],
      "metadata": {
        "id": "4Q6oE5rNJ6uK"
      },
      "execution_count": null,
      "outputs": []
    },
    {
      "cell_type": "code",
      "source": [
        "# hashtable no-sort\n",
        "# slow\n",
        "class Solution:\n",
        "    def threeSum(self, nums: List[int]) -> List[List[int]]:\n",
        "        res, dups = set(), set()\n",
        "        seen = {}\n",
        "        for i, val1 in enumerate(nums):\n",
        "            if val1 not in dups:\n",
        "                dups.add(val1)\n",
        "                for j, val2 in enumerate(nums[i+1:]):\n",
        "                    complement = -val1 - val2\n",
        "                    # complement is in seen and is in this step\n",
        "                    if complement in seen and seen[complement] == i:\n",
        "                        res.add(tuple(sorted((val1, val2, complement))))\n",
        "                    # i is fixed in this step\n",
        "                    seen[val2] = i\n",
        "        return res"
      ],
      "metadata": {
        "id": "hRFGlkl2J8hF"
      },
      "execution_count": null,
      "outputs": []
    },
    {
      "cell_type": "markdown",
      "source": [
        "## M 4 sum"
      ],
      "metadata": {
        "id": "-lfOpeERT5sc"
      }
    },
    {
      "cell_type": "code",
      "source": [
        "# two pointers\n",
        "from typing import List\n",
        "\n",
        "class Solution:\n",
        "    def fourSum(self, nums: List[int], target: int) -> List[List[int]]:\n",
        "        \n",
        "        def kSum(target, idx, k):\n",
        "            sums = []\n",
        "            if idx >= len(nums):\n",
        "                return sums\n",
        "            \n",
        "            average = target / k\n",
        "            if average < nums[idx] or average > nums[-1]:\n",
        "                return sums\n",
        "            \n",
        "            if k==2:\n",
        "                return twoSum(target, idx)\n",
        "            \n",
        "            for i in range(idx, len(nums)):\n",
        "                if i == idx or nums[i] != nums[i-1]:\n",
        "                    # recursion\n",
        "                    for complement_list in kSum(target-nums[i], i+1, k-1):\n",
        "                        sums.append([nums[i]] + complement_list)\n",
        "            return sums\n",
        "        \n",
        "        def twoSum(target, idx):\n",
        "            sums = []\n",
        "            # note that this is the base case, idx is already added to 1, so \n",
        "            # the list starts from idx to len(nums)-1\n",
        "            pl, pr = idx, len(nums)-1\n",
        "            while pl<pr:\n",
        "                temp_sum = nums[pl] + nums[pr]\n",
        "                if temp_sum > target:\n",
        "                    pr -= 1\n",
        "                elif temp_sum < target:\n",
        "                    pl += 1\n",
        "                else:\n",
        "                    sums.append([nums[pl], nums[pr]])\n",
        "                    pr -= 1\n",
        "                    pl += 1\n",
        "                    while pl < pr and nums[pl] == nums[pl-1]:\n",
        "                        pl += 1\n",
        "            return sums\n",
        "\n",
        "\n",
        "        nums.sort()\n",
        "        return kSum(target, 0, 4)"
      ],
      "metadata": {
        "id": "nhImM_q0J8dv"
      },
      "execution_count": 33,
      "outputs": []
    },
    {
      "cell_type": "code",
      "source": [
        "# hashtable\n",
        "\n",
        "class Solution:\n",
        "    def fourSum(self, nums: List[int], target: int) -> List[List[int]]:\n",
        "        \n",
        "        def kSum(target, idx, k):\n",
        "            sums = []\n",
        "            \n",
        "            if idx >= len(nums):\n",
        "                return sums\n",
        "            \n",
        "            average = target/k\n",
        "            if average < nums[idx] or average > nums[-1]:\n",
        "                return sums\n",
        "            \n",
        "            if k==2:\n",
        "                return twoSum(target, idx)\n",
        "                \n",
        "            for i in range(idx, len(nums)):\n",
        "                if i == idx or nums[i]!=nums[i-1]:\n",
        "                    for complement_list in kSum(target-nums[i], i+1, k-1):\n",
        "                        sums.append([nums[i]] + complement_list)\n",
        "            return sums\n",
        "        \n",
        "        def twoSum(target, idx):\n",
        "            seen = set()\n",
        "            valid = set()\n",
        "            for i in range(idx, len(nums)):\n",
        "                if (target-nums[i], nums[i]) not in valid:\n",
        "                    if target-nums[i] in seen:\n",
        "                        valid.add((target-nums[i], nums[i]))\n",
        "                seen.add(nums[i])\n",
        "                \n",
        "            return [list(x) for x in valid]\n",
        "        \n",
        "        nums.sort()\n",
        "        return kSum(target, 0, 4)"
      ],
      "metadata": {
        "id": "98WCGONHmUZs"
      },
      "execution_count": null,
      "outputs": []
    },
    {
      "cell_type": "code",
      "source": [
        "nums1 = [1,0,-1,0,-2,2]\n",
        "target1 = 0\n",
        "nums2 = [2,2,2,2,2]\n",
        "target2 =8 \n",
        "\n",
        "so = Solution()\n",
        "\n",
        "res1 = so.fourSum(nums1, target1)\n",
        "print(res1)"
      ],
      "metadata": {
        "colab": {
          "base_uri": "https://localhost:8080/"
        },
        "id": "s3_AYDy7J8bj",
        "outputId": "838c520b-fc26-40ee-d372-583d2fd92dca"
      },
      "execution_count": 34,
      "outputs": [
        {
          "output_type": "stream",
          "name": "stdout",
          "text": [
            "[-2, -1, 0, 0, 1, 2]\n",
            "3 [0, 0, 1, 2]\n",
            "0 2\n",
            "0 2\n",
            "1 2\n",
            "3 3 [-1, 0, 0, 1, 2]\n",
            "2 [0, 1, 2]\n",
            "0 2\n",
            "3 2 [0, 0, 1, 2]\n",
            "4 2 [-2, -1, 0, 0, 1, 2]\n",
            "4 2 [-2, -1, 0, 0, 1, 2]\n",
            "1 [0, 1, 2]\n",
            "0 2\n",
            "0 1\n",
            "3 1 [0, 0, 1, 2]\n",
            "4 1 [-1, 0, 0, 1, 2]\n",
            "[[-2, -1, 1, 2], [-2, 0, 0, 2], [-1, 0, 0, 1]]\n"
          ]
        }
      ]
    },
    {
      "cell_type": "markdown",
      "source": [
        "## 49 M Group Anagrams"
      ],
      "metadata": {
        "id": "cjdnYI4dmeY8"
      }
    },
    {
      "cell_type": "code",
      "source": [
        "# # hashtable\n",
        "# class Solution:\n",
        "#     def groupAnagrams(self, strs: List[str]) -> List[List[str]]:\n",
        "#         hashtable = {}\n",
        "#         for string in strs:\n",
        "#             key = tuple(sorted(string))\n",
        "#             if key not in hashtable:\n",
        "#                 hashtable[key] = [string]\n",
        "#             else:\n",
        "#                 hashtable[key].append(string)\n",
        "#         return list(hashtable.values())\n",
        "    \n",
        "# hashtable2\n",
        "class Solution:\n",
        "    def groupAnagrams(self, strs: List[str]) -> List[List[str]]:\n",
        "        hashtable = collections.defaultdict(list)\n",
        "        for string in strs:\n",
        "            hashtable[tuple(sorted(string))].append(string)\n",
        "        return hashtable.values()\n",
        "\n",
        "\n"
      ],
      "metadata": {
        "id": "VpZ6l-V2mf9r"
      },
      "execution_count": null,
      "outputs": []
    },
    {
      "cell_type": "markdown",
      "source": [
        "## 242 E Valid Anagram"
      ],
      "metadata": {
        "id": "NBDag4bmq6aF"
      }
    },
    {
      "cell_type": "code",
      "source": [
        "class Solution:\n",
        "    def isAnagram(self, s: str, t: str) -> bool:\n",
        "        tracker = collections.defaultdict(int)\n",
        "        for x in s: tracker[x] += 1\n",
        "        for x in t: tracker[x] -= 1\n",
        "        return all(x == 0 for x in tracker.values())"
      ],
      "metadata": {
        "id": "KtGQycllJ8ZM"
      },
      "execution_count": null,
      "outputs": []
    },
    {
      "cell_type": "code",
      "source": [],
      "metadata": {
        "id": "Hsha4U0dJ8Da"
      },
      "execution_count": null,
      "outputs": []
    }
  ]
}