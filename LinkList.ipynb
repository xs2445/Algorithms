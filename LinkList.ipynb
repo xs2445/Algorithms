{
  "nbformat": 4,
  "nbformat_minor": 0,
  "metadata": {
    "colab": {
      "name": "LinkList.ipynb",
      "provenance": [],
      "collapsed_sections": [],
      "authorship_tag": "ABX9TyPk7sn+mmxqExQm64npKytw",
      "include_colab_link": true
    },
    "kernelspec": {
      "name": "python3",
      "display_name": "Python 3"
    },
    "language_info": {
      "name": "python"
    }
  },
  "cells": [
    {
      "cell_type": "markdown",
      "metadata": {
        "id": "view-in-github",
        "colab_type": "text"
      },
      "source": [
        "<a href=\"https://colab.research.google.com/github/xs2445/Algorithms/blob/main/LinkList.ipynb\" target=\"_parent\"><img src=\"https://colab.research.google.com/assets/colab-badge.svg\" alt=\"Open In Colab\"/></a>"
      ]
    },
    {
      "cell_type": "markdown",
      "source": [
        "# LinkList\n",
        "\n",
        "19 [M] Remove Nth Node From End of List\n",
        "\n",
        "24 [M] Swap Nodes in Pairs\n",
        "\n",
        "25 [H] Reverse Nodes in k-Group\n",
        "\n",
        "141\n",
        "\n",
        "142\n",
        "\n",
        "160\n",
        "\n",
        "206\n",
        "\n",
        "707"
      ],
      "metadata": {
        "id": "sh4gND1JpSvK"
      }
    },
    {
      "cell_type": "code",
      "source": [
        "from typing import List, Optional"
      ],
      "metadata": {
        "id": "OfXEvaGovnBD"
      },
      "execution_count": 1,
      "outputs": []
    },
    {
      "cell_type": "markdown",
      "source": [
        "## 19 [M] Remove Nth Node From End of List"
      ],
      "metadata": {
        "id": "14FkGXewvXnc"
      }
    },
    {
      "cell_type": "code",
      "execution_count": null,
      "metadata": {
        "id": "33XcqrTqpQap"
      },
      "outputs": [],
      "source": [
        "# Definition for singly-linked list.\n",
        "# add dummy node pointing to the head\n",
        "# slow implementation\n",
        "class ListNode:\n",
        "    def __init__(self, val=0, next=None):\n",
        "        self.val = val\n",
        "        self.next = next\n",
        "\n",
        "class Solution:\n",
        "    def removeNthFromEnd(self, head: Optional[ListNode], n: int) -> Optional[ListNode]:\n",
        "        dummy = ListNode(next=head)\n",
        "        curr = dummy\n",
        "        # traverse first to get the length\n",
        "        length = 0\n",
        "        while curr.next:\n",
        "            length += 1\n",
        "            curr = curr.next\n",
        "        # get the node one step before the node that is going to be deleted\n",
        "        curr = dummy\n",
        "        for _ in range(length-n):\n",
        "            curr = curr.next\n",
        "        # the node gonna be deleted\n",
        "        node_delete = curr.next\n",
        "        if node_delete.next:\n",
        "            curr.next = node_delete.next\n",
        "        else:\n",
        "            curr.next= None\n",
        "\n",
        "        return dummy.next\n",
        "\n",
        "        "
      ]
    },
    {
      "cell_type": "code",
      "source": [
        "# Definition for singly-linked list.\n",
        "# add dummy node pointing to the head\n",
        "# add a faster node that is n+1 steps faster than the current node\n",
        "# faster than 35.8%, still slow\n",
        "class ListNode:\n",
        "    def __init__(self, val=0, next=None):\n",
        "        self.val = val\n",
        "        self.next = next\n",
        "\n",
        "class Solution:\n",
        "    def removeNthFromEnd(self, head: Optional[ListNode], n: int) -> Optional[ListNode]:\n",
        "        dummy = ListNode(next=head)\n",
        "        curr = fast = dummy\n",
        "        for _ in range(n):\n",
        "            fast = fast.next\n",
        "        while fast.next:\n",
        "            fast = fast.next\n",
        "            curr = curr.next\n",
        "        # the node gonna be deleted\n",
        "        node_delete = curr.next\n",
        "        if node_delete.next:\n",
        "            curr.next = node_delete.next\n",
        "        else:\n",
        "            curr.next= None\n",
        "        \n",
        "        return dummy.next"
      ],
      "metadata": {
        "id": "IotS0SDJ8Tjy"
      },
      "execution_count": null,
      "outputs": []
    },
    {
      "cell_type": "code",
      "source": [
        "# Definition for singly-linked list.\n",
        "# faster than 79.4% (from leetcode comment)\n",
        "\n",
        "class ListNode:\n",
        "    def __init__(self, val=0, next=None):\n",
        "        self.val = val\n",
        "        self.next = next\n",
        "\n",
        "class Solution:\n",
        "    def removeNthFromEnd(self, head: Optional[ListNode], n: int) -> Optional[ListNode]:\n",
        "        curr = head\n",
        "        length = 0\n",
        "        while curr:\n",
        "            length += 1\n",
        "            curr = curr.next\n",
        "        if length == 1:\n",
        "            return None\n",
        "        if length == n:\n",
        "            head = head.next\n",
        "            return head\n",
        "        curr = head\n",
        "        for i in range(length-n-1):\n",
        "            curr = curr.next\n",
        "        curr.next = curr.next.next\n",
        "        return head"
      ],
      "metadata": {
        "id": "lbPf6ghi9o77"
      },
      "execution_count": null,
      "outputs": []
    },
    {
      "cell_type": "code",
      "source": [
        "nodes = ListNode(1)\n",
        "n = 1\n",
        "sol = Solution()\n",
        "print(sol.removeNthFromEnd(nodes, n))"
      ],
      "metadata": {
        "colab": {
          "base_uri": "https://localhost:8080/"
        },
        "id": "Gl5Uqm9Tw5Z7",
        "outputId": "f365bb1c-b363-44a2-a9b5-71efab1b1fc5"
      },
      "execution_count": null,
      "outputs": [
        {
          "output_type": "stream",
          "name": "stdout",
          "text": [
            "None\n"
          ]
        }
      ]
    },
    {
      "cell_type": "markdown",
      "source": [
        "## 24 [M] Swap Nodes in Pairs"
      ],
      "metadata": {
        "id": "XkVhVCl1_vlx"
      }
    },
    {
      "cell_type": "code",
      "source": [
        "# Definition for singly-linked list.\n",
        "# iteratively swap\n",
        "# slow\n",
        "class ListNode:\n",
        "    def __init__(self, val=0, next=None):\n",
        "        self.val = val\n",
        "        self.next = next\n",
        "\n",
        "class Solution:\n",
        "    def swapPairs(self, head: Optional[ListNode]) -> Optional[ListNode]:\n",
        "        if head is None or head.next is None:\n",
        "            return head\n",
        "        dummy = ListNode(next=head)\n",
        "        prev = dummy\n",
        "        curr = head\n",
        "\n",
        "        while curr and curr.next:\n",
        "            \n",
        "            left, right = curr, curr.next\n",
        "            prev.next = right\n",
        "\n",
        "            left.next = right.next\n",
        "            right.next = left\n",
        "\n",
        "            curr = left.next\n",
        "            prev = left\n",
        "\n",
        "        return dummy.next\n",
        "\n"
      ],
      "metadata": {
        "id": "OicR-IjF1uAA"
      },
      "execution_count": null,
      "outputs": []
    },
    {
      "cell_type": "code",
      "source": [
        "# recursion\n",
        "# faster than iterative implementation\n",
        "class ListNode:\n",
        "    def __init__(self, val=0, next=None):\n",
        "        self.val = val\n",
        "        self.next = next\n",
        "\n",
        "class Solution(object):\n",
        "    def swapPairs(self, head: ListNode) -> ListNode:\n",
        "        if head is None or head.next is None:\n",
        "            return head\n",
        "        \n",
        "        left = head\n",
        "        right = head.next\n",
        "\n",
        "        left.next = self.swapPairs(right.next)\n",
        "        right.next = left\n",
        "\n",
        "        return right\n",
        "        "
      ],
      "metadata": {
        "id": "nAkOoLOZIVMn"
      },
      "execution_count": null,
      "outputs": []
    },
    {
      "cell_type": "markdown",
      "source": [
        "## 25 [H] Reverse Nodes in k-Group"
      ],
      "metadata": {
        "id": "3XzP1f6QJz9m"
      }
    },
    {
      "cell_type": "code",
      "source": [
        "# \n",
        "class ListNode:\n",
        "    def __init__(self, val=0, next=None):\n",
        "        self.val = val\n",
        "        self.next = next\n",
        "\n",
        "class Solution:\n",
        "    def reverseKGroup(self, head: Optional[ListNode], k: int) -> Optional[ListNode]:\n",
        "        pass\n",
        "    \n",
        "    def reverseLinkList(self, head: Optional[ListNode]) -> Optional[ListNode]:\n",
        "        curr = \n",
        "    "
      ],
      "metadata": {
        "id": "zZ7HGNiCJzXy"
      },
      "execution_count": null,
      "outputs": []
    }
  ]
}