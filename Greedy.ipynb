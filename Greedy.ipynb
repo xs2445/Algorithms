{
  "nbformat": 4,
  "nbformat_minor": 0,
  "metadata": {
    "colab": {
      "provenance": [],
      "authorship_tag": "ABX9TyNhkykLK1YaS6bfY6G9v8T9",
      "include_colab_link": true
    },
    "kernelspec": {
      "name": "python3",
      "display_name": "Python 3"
    },
    "language_info": {
      "name": "python"
    }
  },
  "cells": [
    {
      "cell_type": "markdown",
      "metadata": {
        "id": "view-in-github",
        "colab_type": "text"
      },
      "source": [
        "<a href=\"https://colab.research.google.com/github/xs2445/Algorithms/blob/main/Greedy.ipynb\" target=\"_parent\"><img src=\"https://colab.research.google.com/assets/colab-badge.svg\" alt=\"Open In Colab\"/></a>"
      ]
    },
    {
      "cell_type": "markdown",
      "source": [
        "# Greedy\n",
        "\n",
        "| Idx | Difficulty | Title |\n",
        "|-----|-----|-----|\n",
        "|11|||\n",
        "|55|||\n",
        "|122|||\n",
        "|309|||\n",
        "|406|||\n",
        "|714|||"
      ],
      "metadata": {
        "id": "7ug_jjh9aqp3"
      }
    },
    {
      "cell_type": "code",
      "execution_count": null,
      "metadata": {
        "id": "SC_Wm7TjapuV"
      },
      "outputs": [],
      "source": []
    }
  ]
}