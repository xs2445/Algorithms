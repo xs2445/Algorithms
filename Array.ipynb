{
  "nbformat": 4,
  "nbformat_minor": 0,
  "metadata": {
    "colab": {
      "name": "Array.ipynb",
      "provenance": [],
      "collapsed_sections": []
    },
    "kernelspec": {
      "name": "python3",
      "display_name": "Python 3"
    },
    "language_info": {
      "name": "python"
    }
  },
  "cells": [
    {
      "cell_type": "markdown",
      "source": [
        "# Arrays\n",
        "\n",
        "1 [E] two sum\n",
        "\n",
        "4 [H] median of two sorted arrays\n",
        "\n",
        "167 [M] two sum 2 - input array is sorted\n",
        "\n",
        "15 [M] 3 sum\n",
        "\n",
        "75 [M] Sort Colors\n",
        "\n",
        "76 [H] Minimum Window Substring"
      ],
      "metadata": {
        "id": "-EE1Nfl_kzl8"
      }
    },
    {
      "cell_type": "code",
      "execution_count": null,
      "metadata": {
        "id": "Ns5IRBihut5m"
      },
      "outputs": [],
      "source": [
        "from typing import List"
      ]
    },
    {
      "cell_type": "markdown",
      "source": [
        "## 1 [E] two sum"
      ],
      "metadata": {
        "id": "D-5S_XzzwaEO"
      }
    },
    {
      "cell_type": "code",
      "source": [
        "# brute force\n",
        "# Theta n^2\n",
        "class Solution:\n",
        "    def twoSum(self, nums: List[int], target: int) -> List[int]:\n",
        "        if len(nums) <= 1:\n",
        "            return None\n",
        "        for i in range(len(nums)):\n",
        "            for j in range(i+1, len(nums)):\n",
        "                if nums[i] + nums[j] == target:\n",
        "                    return [i,j]\n",
        "        return None"
      ],
      "metadata": {
        "id": "092-LLptwfSb"
      },
      "execution_count": null,
      "outputs": []
    },
    {
      "cell_type": "code",
      "source": [
        "# hash table\n",
        "# two iteration and On\n",
        "class Solution:\n",
        "    def twoSum(self, nums: List[int], target: int) -> List[int]:\n",
        "        hashmap = {}\n",
        "        for idx, val in enumerate(nums):\n",
        "            hashmap[val] = idx\n",
        "        for idx, val in enumerate(nums):\n",
        "            if target-val in hashmap and hashmap[target-val] != idx:\n",
        "                return [idx, hashmap[target-val]]"
      ],
      "metadata": {
        "id": "IMrTkjEJxfAl"
      },
      "execution_count": null,
      "outputs": []
    },
    {
      "cell_type": "code",
      "source": [
        "# hash table\n",
        "# only one iteration On\n",
        "class Solution:\n",
        "    def twoSum(self, nums: List[int], target: int) -> List[int]:\n",
        "        hashmap = {}\n",
        "        for idx, val in enumerate(nums):\n",
        "            if target - val in hashmap:\n",
        "                return [idx, hashmap[target-val]]\n",
        "            hashmap[val] = idx\n",
        "        return None"
      ],
      "metadata": {
        "id": "uQtMxO3qyMec"
      },
      "execution_count": null,
      "outputs": []
    },
    {
      "cell_type": "markdown",
      "source": [
        "## 4 [H] median of two sorted arrays"
      ],
      "metadata": {
        "id": "2x8cSxwn1P-N"
      }
    },
    {
      "cell_type": "code",
      "source": [
        "# divide and conquer\n",
        "# Both array are sorted so key is to find the k-th element of both array\n",
        "# consider the number of elements in both array, and compare the median of both array,\n",
        "# every time drop half of either a or b, till one array is empty\n",
        "class Solution:\n",
        "    def findMedianSortedArrays(self, nums1: List[int], nums2: List[int]) -> float:\n",
        "        l = len(nums1) + len(nums2)\n",
        "        if l%2 == 1:\n",
        "            return self.findKth(nums1, nums2, l//2)\n",
        "        else:\n",
        "            return (self.findKth(nums1, nums2, l//2-1) + \n",
        "                    self.findKth(nums1, nums2, l//2)) / 2\n",
        "\n",
        "    def findKth(self, a: List[int], b: List[int], k: int) -> float:\n",
        "        if not a:\n",
        "            return b[k]\n",
        "        if not b:\n",
        "            return a[k]\n",
        "        \n",
        "        idx_a = len(a)//2\n",
        "        idx_b = len(b)//2\n",
        "        # if k is longer than half of merged array, it means k is in the last half array\n",
        "        if k > idx_a + idx_b:\n",
        "            # if median of a is larger than median of b, then median of a is at least the idx_a+idx_b largest number, \n",
        "            # but we don't know that if the last half b is larger or smaller than median a,\n",
        "            # so first half b doesn't matter and a and last half b matters to find kth element,\n",
        "            # so find kth largest in the a and last half of b\n",
        "            if a[idx_a] > b[idx_b]:\n",
        "                return self.findKth(a, b[idx_b+1:], k-idx_b-1)\n",
        "            else:\n",
        "                return self.findKth(a[idx_a+1:], b, k-idx_a-1)\n",
        "        else:\n",
        "            if a[idx_a] > b[idx_b]:\n",
        "                return self.findKth(a[:idx_a], b, k)\n",
        "            else:\n",
        "                return self.findKth(a, b[:idx_b], k)"
      ],
      "metadata": {
        "id": "LynTyX0k1vGH"
      },
      "execution_count": null,
      "outputs": []
    },
    {
      "cell_type": "markdown",
      "source": [
        "## 167 [M] two sum 2 - input array is sorted"
      ],
      "metadata": {
        "id": "d4HCTS5wLLYH"
      }
    },
    {
      "cell_type": "code",
      "source": [
        "# two pointer from first and last element\n",
        "class Solution:\n",
        "    def twoSum(self, numbers: List[int], target: int) -> List[int]:\n",
        "        ptr_l, ptr_r = 1, len(numbers)\n",
        "        while ptr_l < ptr_r:\n",
        "            sum = numbers[ptr_l-1] + numbers[ptr_r-1]\n",
        "            if sum < target:\n",
        "                ptr_l += 1\n",
        "            elif sum > target:\n",
        "                ptr_r -= 1\n",
        "            else:\n",
        "                return [ptr_l, ptr_r]\n",
        "        return []\n",
        "\n",
        "\n",
        "\n"
      ],
      "metadata": {
        "id": "YajdXi3QLLp_"
      },
      "execution_count": null,
      "outputs": []
    },
    {
      "cell_type": "code",
      "source": [
        "sol = Solution()\n",
        "nums = [2,7,11,15]\n",
        "target = 9\n",
        "sol.twoSum(nums, target)"
      ],
      "metadata": {
        "colab": {
          "base_uri": "https://localhost:8080/"
        },
        "id": "ptVJa7R_Ogiu",
        "outputId": "d407ebbc-ad93-423b-feaa-899990097f28"
      },
      "execution_count": null,
      "outputs": [
        {
          "output_type": "execute_result",
          "data": {
            "text/plain": [
              "[1, 2]"
            ]
          },
          "metadata": {},
          "execution_count": 7
        }
      ]
    },
    {
      "cell_type": "markdown",
      "source": [
        "## 15 [M] 3 sum"
      ],
      "metadata": {
        "id": "9bWldwNZAqSO"
      }
    },
    {
      "cell_type": "code",
      "source": [
        "# convert to 2sum problem using hash table\n",
        "# takes too long time\n",
        "class Solution:\n",
        "    def threeSum(self, nums: List[int]) -> List[List[int]]:\n",
        "        sums = []\n",
        "        while nums:\n",
        "            target_idx = len(nums)\n",
        "            target = -nums.pop(-1)\n",
        "            twoSum_list = self.twoSum(nums, target, target_idx)\n",
        "            if twoSum_list:\n",
        "                sums += twoSum_list\n",
        "        \n",
        "        res = self.checkDuplicates(sums)\n",
        "\n",
        "        return res\n",
        "\n",
        "    def twoSum(self, nums: List[int], target: int, idx_target: int) -> List[List[int]]:\n",
        "        hashtable = {}\n",
        "        sums = []\n",
        "        # all possible two sums\n",
        "        for idx, val in enumerate(nums):\n",
        "            if target-val in hashtable and hashtable[target-val] != idx:\n",
        "                sums.append([-target, val, target-val])\n",
        "            hashtable[val] = idx\n",
        "        if sums:\n",
        "            return sums\n",
        "\n",
        "    def checkDuplicates(self, res: List[List[int]]) -> List[List[int]]:\n",
        "        final = []\n",
        "        seen = []\n",
        "        for x in res:\n",
        "            if {*x} not in seen:\n",
        "                final.append(x)\n",
        "                seen.append({*x})\n",
        "        return final\n"
      ],
      "metadata": {
        "id": "PFB-J78KAxWV"
      },
      "execution_count": null,
      "outputs": []
    },
    {
      "cell_type": "code",
      "source": [
        "sample1 = [-1,0,1,2,-1,-4]\n",
        "print(Solution().threeSum(sample1))"
      ],
      "metadata": {
        "colab": {
          "base_uri": "https://localhost:8080/"
        },
        "id": "C_cQy_JYDq1Y",
        "outputId": "e9dffc4e-8ce5-4604-c7c8-5f1d2aca8111"
      },
      "execution_count": null,
      "outputs": [
        {
          "output_type": "stream",
          "name": "stdout",
          "text": [
            "[[-1, 1, 0], [-1, 2, -1]]\n"
          ]
        }
      ]
    },
    {
      "cell_type": "code",
      "source": [
        "# sort first and use 2sum for sorted array\n",
        "class Solution:\n",
        "    def threeSum(self, nums: List[int]) -> List[List[int]]:\n",
        "        nums.sort()\n",
        "        sums = []\n",
        "        for idx in range(len(nums)):\n",
        "            # the sum is 0, if target>0 means all afterwards elements>0 \n",
        "            if nums[idx] > 0:\n",
        "                break\n",
        "            if idx > 0 and nums[idx] == nums[idx-1]:\n",
        "                continue\n",
        "            twoSum_list = self.twoSum(nums, idx, sums)\n",
        "        \n",
        "        return sums\n",
        "\n",
        "    def twoSum(self, nums: List[int], idx: int, sums: List[List[int]]) -> List[List[int]]:\n",
        "        ptr_l, ptr_r = idx+1, len(nums)-1\n",
        "        # traverse all possible combinations\n",
        "        while ptr_l < ptr_r:\n",
        "            sum = nums[ptr_l] + nums[ptr_r] + nums[idx]\n",
        "            if sum < 0:\n",
        "                ptr_l += 1\n",
        "            elif sum > 0:\n",
        "                ptr_r -= 1\n",
        "            else:\n",
        "                sums.append([nums[idx], nums[ptr_l], nums[ptr_r]])\n",
        "                ptr_l += 1\n",
        "                ptr_r -= 1\n",
        "                while ptr_l < ptr_r and nums[ptr_l] == nums[ptr_l-1]:\n",
        "                    ptr_l += 1\n"
      ],
      "metadata": {
        "id": "6pbkZ7qUD3Fm"
      },
      "execution_count": null,
      "outputs": []
    },
    {
      "cell_type": "code",
      "source": [
        "# official solution\n",
        "class Solution:\n",
        "    def threeSum(self, nums: List[int]) -> List[List[int]]:\n",
        "        res = []\n",
        "        nums.sort()\n",
        "        for i in range(len(nums)):\n",
        "            if nums[i] > 0:\n",
        "                break\n",
        "            if i == 0 or nums[i - 1] != nums[i]:\n",
        "                self.twoSumII(nums, i, res)\n",
        "        return res\n",
        "\n",
        "    def twoSumII(self, nums: List[int], i: int, res: List[List[int]]):\n",
        "        lo, hi = i + 1, len(nums) - 1\n",
        "        while (lo < hi):\n",
        "            sum = nums[i] + nums[lo] + nums[hi]\n",
        "            if sum < 0:\n",
        "                lo += 1\n",
        "            elif sum > 0:\n",
        "                hi -= 1\n",
        "            else:\n",
        "                res.append([nums[i], nums[lo], nums[hi]])\n",
        "                lo += 1\n",
        "                hi -= 1\n",
        "                while lo < hi and nums[lo] == nums[lo - 1]:\n",
        "                    lo += 1"
      ],
      "metadata": {
        "id": "AKie-EXhVpk1"
      },
      "execution_count": null,
      "outputs": []
    },
    {
      "cell_type": "code",
      "source": [
        "# hashset do not sort (official solution)\n",
        "# non-sorted methods can easily time out.\n",
        "class Solution:\n",
        "    def threeSum(self, nums: List[int]) -> List[List[int]]:\n",
        "        res, dups = set(), set()\n",
        "        seen = {}\n",
        "        for i, val1 in enumerate(nums):\n",
        "            if val1 not in dups:\n",
        "                dups.add(val1)\n",
        "                for j, val2 in enumerate(nums[i+1:]):\n",
        "                    complement = -val1 - val2\n",
        "                    if complement in seen and seen[complement] == i:\n",
        "                        res.add(tuple(sorted((val1, val2, complement))))\n",
        "                    seen[val2] = i\n",
        "        return list(res)"
      ],
      "metadata": {
        "id": "PRhvYuaCa03v"
      },
      "execution_count": null,
      "outputs": []
    },
    {
      "cell_type": "code",
      "source": [
        "sol = Solution()\n",
        "sample1 = [-1,0,1,2,-1,-4]\n",
        "print(sol.threeSum(sample1))"
      ],
      "metadata": {
        "colab": {
          "base_uri": "https://localhost:8080/"
        },
        "id": "nV1JqJMVSFoW",
        "outputId": "4aa0db98-e5c9-45a9-9a38-d61bc7640c66"
      },
      "execution_count": null,
      "outputs": [
        {
          "output_type": "stream",
          "name": "stdout",
          "text": [
            "[(-1, -1, 2), (-1, 0, 1)]\n"
          ]
        }
      ]
    },
    {
      "cell_type": "markdown",
      "source": [
        "## 75 [M] Sort Colors "
      ],
      "metadata": {
        "id": "6iwk6wrcgAC0"
      }
    },
    {
      "cell_type": "code",
      "source": [
        "# only three colors so can use 2 pointers\n",
        "# no need for sort\n",
        "class Solution:\n",
        "    def sortColors(self, nums: List[int]) -> None:\n",
        "        \"\"\"\n",
        "        Do not return anything, modify nums in-place instead.\n",
        "        Dutch National Flag problem solution.\n",
        "        \"\"\"\n",
        "        # for all idx < p0 : nums[idx < p0] = 0\n",
        "        # curr is an index of element under consideration\n",
        "        p0 = curr = 0\n",
        "        # for all idx > p2 : nums[idx > p2] = 2\n",
        "        p2 = len(nums) - 1\n",
        "        # one pass\n",
        "        while curr <= p2:\n",
        "            if nums[curr] == 0:\n",
        "                nums[p0], nums[curr] = nums[curr], nums[p0]\n",
        "                curr += 1\n",
        "                p0 += 1\n",
        "            elif nums[curr] == 2:\n",
        "                nums[p2], nums[curr] = nums[curr], nums[p2]\n",
        "                p2 -= 1\n",
        "            else:\n",
        "                curr += 1\n"
      ],
      "metadata": {
        "id": "U4Lvq0kceCdu"
      },
      "execution_count": null,
      "outputs": []
    },
    {
      "cell_type": "code",
      "source": [
        "sol = Solution()\n",
        "sample1 = [2,0,1,2,2,1,0]\n",
        "sol.sortColors(sample1)\n",
        "print(sample1)"
      ],
      "metadata": {
        "colab": {
          "base_uri": "https://localhost:8080/"
        },
        "id": "uKiywEbbi5hx",
        "outputId": "6b33b75d-8c0f-461f-ec70-eff281f72c8f"
      },
      "execution_count": null,
      "outputs": [
        {
          "output_type": "stream",
          "name": "stdout",
          "text": [
            "[0, 0, 1, 1, 2, 2, 2]\n"
          ]
        }
      ]
    },
    {
      "cell_type": "markdown",
      "source": [
        "# 76 [H] Minimum Window Substring"
      ],
      "metadata": {
        "id": "BG0UVU19gEQl"
      }
    },
    {
      "cell_type": "code",
      "source": [
        "class Solution:\n",
        "    def minWindow(self, s: str, t: str) -> str:\n",
        "        ans = None\n",
        "        ptr_l = 0\n",
        "        for ptr_r in range(len(s)):\n",
        "            if t in s[ptr_l:ptr_r]:\n",
        "                for ptr_l in range(ptr_l,ptr_r):\n",
        "                    if t in s[ptr_l:ptr_r]:\n",
        "                        ans = s[ptr_l:ptr_r]\n",
        "        return ans"
      ],
      "metadata": {
        "id": "gpXnvhkWgs3O"
      },
      "execution_count": null,
      "outputs": []
    },
    {
      "cell_type": "code",
      "source": [
        "sample1 = 'sdfuisd'\n",
        "t = 'fu'\n",
        "print(len(sample1))\n",
        "print(sample1[2])\n",
        "sol = Solution()\n",
        "sol.minWindow()"
      ],
      "metadata": {
        "colab": {
          "base_uri": "https://localhost:8080/"
        },
        "id": "xIzr_VP4nLeh",
        "outputId": "af170735-cbbe-4bbc-f714-555e108cf2ef"
      },
      "execution_count": null,
      "outputs": [
        {
          "output_type": "stream",
          "name": "stdout",
          "text": [
            "7\n",
            "f\n"
          ]
        }
      ]
    }
  ]
}