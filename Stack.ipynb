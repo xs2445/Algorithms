{
  "nbformat": 4,
  "nbformat_minor": 0,
  "metadata": {
    "colab": {
      "name": "Stack.ipynb",
      "provenance": [],
      "collapsed_sections": [],
      "authorship_tag": "ABX9TyMor35sGhgd8jlZyhPn5Pgh",
      "include_colab_link": true
    },
    "kernelspec": {
      "name": "python3",
      "display_name": "Python 3"
    },
    "language_info": {
      "name": "python"
    }
  },
  "cells": [
    {
      "cell_type": "markdown",
      "metadata": {
        "id": "view-in-github",
        "colab_type": "text"
      },
      "source": [
        "<a href=\"https://colab.research.google.com/github/xs2445/Algorithms/blob/main/Stack.ipynb\" target=\"_parent\"><img src=\"https://colab.research.google.com/assets/colab-badge.svg\" alt=\"Open In Colab\"/></a>"
      ]
    },
    {
      "cell_type": "markdown",
      "source": [
        "# Stack\n",
        "\n",
        "20 [M] Valid Parentheses\n",
        "\n",
        "150 [M] Evaluate Reverse Polish Notation\n",
        "\n",
        "225\n",
        "\n",
        "232\n",
        "\n",
        "239\n",
        "\n",
        "703\n",
        "\n",
        "1047\n"
      ],
      "metadata": {
        "id": "fXXzNZJbfvtk"
      }
    },
    {
      "cell_type": "code",
      "execution_count": 1,
      "metadata": {
        "id": "-yQF2w-VrOS2"
      },
      "outputs": [],
      "source": [
        "from typing import List, Optional"
      ]
    },
    {
      "cell_type": "markdown",
      "source": [
        "## 20 [M] Valid Parentheses"
      ],
      "metadata": {
        "id": "E9Noq9bJf_CZ"
      }
    },
    {
      "cell_type": "code",
      "source": [
        "class Solution:\n",
        "    def isValid(self, s: str) -> bool:\n",
        "        stack = []\n",
        "        mapping = {\n",
        "            \")\": \"(\",\n",
        "            \"]\": \"[\",\n",
        "            \"}\": \"{\"\n",
        "        }\n",
        "        for char in s:\n",
        "            if char in mapping:\n",
        "                # .pop() return the top element (last in)\n",
        "                top_element = stack.pop() if stack else '#'\n",
        "                if mapping[char] != top_element:\n",
        "                    return False\n",
        "            else:\n",
        "                stack.append(char)\n",
        "        # check closure\n",
        "        # if stack has element then 's' is not closed\n",
        "        return not stack"
      ],
      "metadata": {
        "id": "npClRot_gCNe"
      },
      "execution_count": null,
      "outputs": []
    },
    {
      "cell_type": "markdown",
      "source": [
        "## 150 [M] Evaluate Reverse Polish Notation"
      ],
      "metadata": {
        "id": "oCeYZNmwf_jr"
      }
    },
    {
      "cell_type": "code",
      "source": [
        "class Solution:\n",
        "    def evalRPN(self, tokens: List[str]) -> int:\n",
        "        "
      ],
      "metadata": {
        "id": "y_oQWM-GgA4v"
      },
      "execution_count": null,
      "outputs": []
    },
    {
      "cell_type": "markdown",
      "source": [
        "225"
      ],
      "metadata": {
        "id": "Pq9PMTuogDLg"
      }
    },
    {
      "cell_type": "markdown",
      "source": [
        "232"
      ],
      "metadata": {
        "id": "OsACWDjTgDOm"
      }
    },
    {
      "cell_type": "markdown",
      "source": [
        "239"
      ],
      "metadata": {
        "id": "nVkX0baIgDRy"
      }
    },
    {
      "cell_type": "markdown",
      "source": [
        "1047"
      ],
      "metadata": {
        "id": "mTw8VSslgDUy"
      }
    }
  ]
}