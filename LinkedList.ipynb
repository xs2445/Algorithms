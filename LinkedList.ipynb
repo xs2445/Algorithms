{
  "nbformat": 4,
  "nbformat_minor": 0,
  "metadata": {
    "colab": {
      "name": "LinkList.ipynb",
      "provenance": [],
      "collapsed_sections": [],
      "authorship_tag": "ABX9TyM9TPAdJiEuDp851CB4luz3",
      "include_colab_link": true
    },
    "kernelspec": {
      "name": "python3",
      "display_name": "Python 3"
    },
    "language_info": {
      "name": "python"
    }
  },
  "cells": [
    {
      "cell_type": "markdown",
      "metadata": {
        "id": "view-in-github",
        "colab_type": "text"
      },
      "source": [
        "<a href=\"https://colab.research.google.com/github/xs2445/Algorithms/blob/main/LinkList.ipynb\" target=\"_parent\"><img src=\"https://colab.research.google.com/assets/colab-badge.svg\" alt=\"Open In Colab\"/></a>"
      ]
    },
    {
      "cell_type": "markdown",
      "source": [
        "# LinkList\n",
        "\n",
        "[707 [M] Design Linked List](#707)\n",
        "\n",
        "[19 [M] Remove Nth Node From End of List](#19)\n",
        "\n",
        "[206 [E] Reverse Linked List](#206)\n",
        "\n",
        "[92 [M] Reverse Linked List II](#92)\n",
        "\n",
        "[24 [M] Swap Nodes in Pairs](#24)\n",
        "\n",
        "[25 [H] Reverse Nodes in k-Group](#25)\n",
        "\n",
        "141\n",
        "\n",
        "142\n",
        "\n",
        "160\n"
      ],
      "metadata": {
        "id": "sh4gND1JpSvK"
      }
    },
    {
      "cell_type": "code",
      "source": [
        "from typing import List, Optional"
      ],
      "metadata": {
        "id": "OfXEvaGovnBD"
      },
      "execution_count": 1,
      "outputs": []
    },
    {
      "cell_type": "markdown",
      "source": [
        "<a name=\"707\"></a>\n",
        "\n",
        "## 707 [M] Design Linked List\n",
        "\n"
      ],
      "metadata": {
        "id": "b9f9FLlkT_ic"
      }
    },
    {
      "cell_type": "code",
      "source": [
        "class ListNode:\n",
        "    def __init__(self, val=0, next=None):\n",
        "        self.val = val\n",
        "        self.next = None\n",
        "\n",
        "class MyLinkedList:\n",
        "\n",
        "    def __init__(self):\n",
        "        self.size = 0\n",
        "        self.head = ListNode(-1)\n",
        "\n",
        "    def get(self, index: int) -> int:\n",
        "        # if index is invalid\n",
        "        if index < 0 or index >= self.size:\n",
        "            return -1\n",
        "        curr = self.head\n",
        "        for _ in range(index+1):\n",
        "            curr = curr.next\n",
        "        return curr.val\n",
        "\n",
        "    def addAtHead(self, val: int) -> None:\n",
        "        self.addAtIndex(0, val)\n",
        "\n",
        "    def addAtTail(self, val: int) -> None:\n",
        "        self.addAtIndex(self.size, val)\n",
        "\n",
        "    def addAtIndex(self, index: int, val: int) -> None:\n",
        "        # if index larger or smaller than the range\n",
        "        if index > self.size or index < 0:\n",
        "            return \n",
        "        # comfirm node is added\n",
        "        self.size += 1\n",
        "        pred = self.head\n",
        "        # addAtIndex([0,2])\n",
        "        # -1 -> 1 -> 2\n",
        "        # -1 -> (2) -> 1 -> 2\n",
        "        #\n",
        "        #addAtIndex([3,1])\n",
        "        # -1 -> 2 -> 1 -> 2\n",
        "        # -1 -> 2 -> 1 -> 2 -> (1)\n",
        "        # get the predecessor\n",
        "        for _ in range(index):\n",
        "            pred = pred.next\n",
        "        add_node = ListNode(val, pred.next)\n",
        "        pred.next = add_node\n",
        "\n",
        "    def deleteAtIndex(self, index: int) -> None:\n",
        "        if index < 0 or index >= self.size:\n",
        "            return\n",
        "        self.size -= 1\n",
        "        pred = self.head\n",
        "        for _ in range(index):\n",
        "            pred = pred.next\n",
        "        pred.next = pred.next.next"
      ],
      "metadata": {
        "id": "UyF1686rUHhq"
      },
      "execution_count": null,
      "outputs": []
    },
    {
      "cell_type": "code",
      "source": [
        "[\"MyLinkedList\",\"addAtHead\",\"addAtTail\",\"addAtIndex\",\"get\",\"deleteAtIndex\",\"get\"]\n",
        "[[],[1],[3],[1,2],[1],[1],[1]]"
      ],
      "metadata": {
        "id": "p2R3dEC2DySy"
      },
      "execution_count": null,
      "outputs": []
    },
    {
      "cell_type": "markdown",
      "source": [
        "<a name=\"19\"></a>\n",
        "\n",
        "## 19 [M] Remove Nth Node From End of List"
      ],
      "metadata": {
        "id": "14FkGXewvXnc"
      }
    },
    {
      "cell_type": "code",
      "execution_count": null,
      "metadata": {
        "id": "33XcqrTqpQap"
      },
      "outputs": [],
      "source": [
        "# Definition for singly-linked list.\n",
        "# add dummy node pointing to the head\n",
        "# slow implementation\n",
        "class ListNode:\n",
        "    def __init__(self, val=0, next=None):\n",
        "        self.val = val\n",
        "        self.next = next\n",
        "\n",
        "class Solution:\n",
        "    def removeNthFromEnd(self, head: Optional[ListNode], n: int) -> Optional[ListNode]:\n",
        "        dummy = ListNode(next=head)\n",
        "        curr = dummy\n",
        "        # traverse first to get the length\n",
        "        length = 0\n",
        "        while curr.next:\n",
        "            length += 1\n",
        "            curr = curr.next\n",
        "        # get the node one step before the node that is going to be deleted\n",
        "        curr = dummy\n",
        "        for _ in range(length-n):\n",
        "            curr = curr.next\n",
        "        # the node gonna be deleted\n",
        "        node_delete = curr.next\n",
        "        if node_delete.next:\n",
        "            curr.next = node_delete.next\n",
        "        else:\n",
        "            curr.next= None\n",
        "\n",
        "        return dummy.next\n",
        "\n",
        "        "
      ]
    },
    {
      "cell_type": "code",
      "source": [
        "# Definition for singly-linked list.\n",
        "# add dummy node pointing to the head\n",
        "# add a faster node that is n+1 steps faster than the current node\n",
        "# faster than 35.8%, still slow\n",
        "class ListNode:\n",
        "    def __init__(self, val=0, next=None):\n",
        "        self.val = val\n",
        "        self.next = next\n",
        "\n",
        "class Solution:\n",
        "    def removeNthFromEnd(self, head: Optional[ListNode], n: int) -> Optional[ListNode]:\n",
        "        dummy = ListNode(next=head)\n",
        "        curr = fast = dummy\n",
        "        for _ in range(n):\n",
        "            fast = fast.next\n",
        "        while fast.next:\n",
        "            fast = fast.next\n",
        "            curr = curr.next\n",
        "        # the node gonna be deleted\n",
        "        node_delete = curr.next\n",
        "        if node_delete.next:\n",
        "            curr.next = node_delete.next\n",
        "        else:\n",
        "            curr.next= None\n",
        "        \n",
        "        return dummy.next"
      ],
      "metadata": {
        "id": "IotS0SDJ8Tjy"
      },
      "execution_count": null,
      "outputs": []
    },
    {
      "cell_type": "code",
      "source": [
        "# Definition for singly-linked list.\n",
        "# faster than 79.4% (from leetcode comment)\n",
        "\n",
        "class ListNode:\n",
        "    def __init__(self, val=0, next=None):\n",
        "        self.val = val\n",
        "        self.next = next\n",
        "\n",
        "class Solution:\n",
        "    def removeNthFromEnd(self, head: Optional[ListNode], n: int) -> Optional[ListNode]:\n",
        "        curr = head\n",
        "        length = 0\n",
        "        while curr:\n",
        "            length += 1\n",
        "            curr = curr.next\n",
        "        if length == 1:\n",
        "            return None\n",
        "        if length == n:\n",
        "            head = head.next\n",
        "            return head\n",
        "        curr = head\n",
        "        for i in range(length-n-1):\n",
        "            curr = curr.next\n",
        "        curr.next = curr.next.next\n",
        "        return head"
      ],
      "metadata": {
        "id": "lbPf6ghi9o77"
      },
      "execution_count": null,
      "outputs": []
    },
    {
      "cell_type": "code",
      "source": [
        "nodes = ListNode(1)\n",
        "n = 1\n",
        "sol = Solution()\n",
        "print(sol.removeNthFromEnd(nodes, n))"
      ],
      "metadata": {
        "colab": {
          "base_uri": "https://localhost:8080/"
        },
        "id": "Gl5Uqm9Tw5Z7",
        "outputId": "f365bb1c-b363-44a2-a9b5-71efab1b1fc5"
      },
      "execution_count": null,
      "outputs": [
        {
          "output_type": "stream",
          "name": "stdout",
          "text": [
            "None\n"
          ]
        }
      ]
    },
    {
      "cell_type": "markdown",
      "source": [
        "<a name=\"206\"></a>\n",
        "\n",
        "## 206 [E] Reverse Linked List"
      ],
      "metadata": {
        "id": "PeOSpVYi6gid"
      }
    },
    {
      "cell_type": "code",
      "source": [
        "# Definition for singly-linked list.\n",
        "class ListNode:\n",
        "    def __init__(self, val=0, next=None):\n",
        "        self.val = val\n",
        "        self.next = next\n",
        "        \n",
        "class Solution:\n",
        "    def reverseList(self, head: Optional[ListNode]) -> Optional[ListNode]:"
      ],
      "metadata": {
        "id": "SljvpyAS6lkK"
      },
      "execution_count": null,
      "outputs": []
    },
    {
      "cell_type": "markdown",
      "source": [
        "<a name=\"92\"></a>\n",
        "\n",
        "## 92 [M] Reverse Linked List II"
      ],
      "metadata": {
        "id": "scyer6qoSIDs"
      }
    },
    {
      "cell_type": "code",
      "source": [
        "# iterative solution\n",
        "class ListNode:\n",
        "    def __init__(self, val=0, next=None):\n",
        "        self.val = val\n",
        "        self.next = next\n",
        "class Solution:\n",
        "    def reverseBetween(self, head: Optional[ListNode], left: int, right: int) -> Optional[ListNode]:\n",
        "        # if empty list then return none\n",
        "        if head is None:\n",
        "            return None\n",
        "        # length of the list\n",
        "        l = right - left + 1\n",
        "        dummy = ListNode(-1, head)\n",
        "        new_head = dummy\n",
        "        # 0-indexed list\n",
        "        for _ in range(left-1):\n",
        "            new_head = new_head.next\n",
        "        # point to the first element of the list\n",
        "        pred = new_head\n",
        "        ptr = new_tail = new_head.next\n",
        "        while l:\n",
        "            next_node = ptr.next\n",
        "            ptr.next = new_head\n",
        "            new_head = ptr\n",
        "            ptr = next_node\n",
        "            l -= 1\n",
        "        # the sub-linked-list is reversed, the head is tail, tail is head\n",
        "        # previous tail is the head now, the predecessor needs to link to it.\n",
        "        pred.next = new_head\n",
        "        # previous head is the tail now, still linked to the predecessor which can cause a cycle\n",
        "        new_tail.next = ptr\n",
        "        \n",
        "        return dummy.next   \n",
        "            "
      ],
      "metadata": {
        "id": "SPzq1RoESNU3"
      },
      "execution_count": null,
      "outputs": []
    },
    {
      "cell_type": "code",
      "source": [
        "# recursive solution\n",
        "class ListNode:\n",
        "    def __init__(self, val=0, next=None):\n",
        "        self.val = val\n",
        "        self.next = next\n",
        "class Solution:\n",
        "    def reverseBetween(self, head: Optional[ListNode], left: int, right: int) -> Optional[ListNode]:\n",
        "        if head is None:\n",
        "            return None\n",
        "        node_l, node_r = head, head\n",
        "        stop = False\n",
        "        def reverseRecursively(node_r, m, n):\n",
        "            nonlocal node_l, stop\n",
        "\n",
        "            # move to the right position\n",
        "            if n == 1:\n",
        "                return\n",
        "            \n",
        "\n",
        "        \n",
        "\n",
        "        reverseRecursively(right, m, n)\n",
        "        return head\n",
        "        \n",
        "        \n",
        "            "
      ],
      "metadata": {
        "id": "1IwKXSimW1CG"
      },
      "execution_count": null,
      "outputs": []
    },
    {
      "cell_type": "markdown",
      "source": [
        "<a name=\"24\"></a>\n",
        "\n",
        "## 24 [M] Swap Nodes in Pairs"
      ],
      "metadata": {
        "id": "XkVhVCl1_vlx"
      }
    },
    {
      "cell_type": "code",
      "source": [
        "# Definition for singly-linked list.\n",
        "# iteratively swap\n",
        "# slow\n",
        "class ListNode:\n",
        "    def __init__(self, val=0, next=None):\n",
        "        self.val = val\n",
        "        self.next = next\n",
        "\n",
        "class Solution:\n",
        "    def swapPairs(self, head: Optional[ListNode]) -> Optional[ListNode]:\n",
        "        if head is None or head.next is None:\n",
        "            return head\n",
        "        dummy = ListNode(next=head)\n",
        "        prev = dummy\n",
        "        curr = head\n",
        "\n",
        "        while curr and curr.next:\n",
        "            \n",
        "            left, right = curr, curr.next\n",
        "            prev.next = right\n",
        "\n",
        "            left.next = right.next\n",
        "            right.next = left\n",
        "\n",
        "            curr = left.next\n",
        "            prev = left\n",
        "\n",
        "        return dummy.next\n",
        "\n"
      ],
      "metadata": {
        "id": "OicR-IjF1uAA"
      },
      "execution_count": null,
      "outputs": []
    },
    {
      "cell_type": "code",
      "source": [
        "# recursion\n",
        "# faster than iterative implementation\n",
        "class ListNode:\n",
        "    def __init__(self, val=0, next=None):\n",
        "        self.val = val\n",
        "        self.next = next\n",
        "\n",
        "class Solution(object):\n",
        "    def swapPairs(self, head: ListNode) -> ListNode:\n",
        "        if head is None or head.next is None:\n",
        "            return head\n",
        "        \n",
        "        left = head\n",
        "        right = head.next\n",
        "\n",
        "        left.next = self.swapPairs(right.next)\n",
        "        right.next = left\n",
        "\n",
        "        return right\n",
        "        "
      ],
      "metadata": {
        "id": "nAkOoLOZIVMn"
      },
      "execution_count": null,
      "outputs": []
    },
    {
      "cell_type": "markdown",
      "source": [
        "<a name=\"25\"></a>\n",
        "\n",
        "## 25 [H] Reverse Nodes in k-Group"
      ],
      "metadata": {
        "id": "3XzP1f6QJz9m"
      }
    },
    {
      "cell_type": "code",
      "source": [
        "# \n",
        "class ListNode:\n",
        "    def __init__(self, val=0, next=None):\n",
        "        self.val = val\n",
        "        self.next = next\n",
        "\n",
        "class Solution:\n",
        "    def reverseKGroup(self, head: Optional[ListNode], k: int) -> Optional[ListNode]:\n",
        "        ptr = head\n",
        "        count = 0\n",
        "\n",
        "        # iterate for k element\n",
        "        while count < k and ptr:\n",
        "            ptr = ptr.next\n",
        "            count += 1\n",
        "        \n",
        "        # if there's at least k elements in the list\n",
        "        if count == k:\n",
        "            # reverse this nodelist\n",
        "            new_head = self.reverseLinkList(head, k)\n",
        "            # then revursively call function to the rest node list\n",
        "            # now the head is the tail of reversed linkedlist\n",
        "            head.next = self.reverseKGroup(ptr,k)\n",
        "            # then return the new head\n",
        "            return new_head\n",
        "        # if not enough k elements in the list, then return the head of this list\n",
        "        return head\n",
        "        \n",
        "    def reverseLinkList(self, head: Optional[ListNode], k: int) -> Optional[ListNode]:\n",
        "        new_head, ptr = None, head\n",
        "        while k:\n",
        "            succ = ptr.next\n",
        "            ptr.next = new_head\n",
        "            new_head = ptr\n",
        "            ptr = succ\n",
        "            k -= 1\n",
        "        return new_head\n",
        "    "
      ],
      "metadata": {
        "id": "zZ7HGNiCJzXy"
      },
      "execution_count": null,
      "outputs": []
    }
  ]
}