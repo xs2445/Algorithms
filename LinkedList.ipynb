{
  "nbformat": 4,
  "nbformat_minor": 0,
  "metadata": {
    "colab": {
      "name": "LinkedList.ipynb",
      "provenance": [],
      "collapsed_sections": [],
      "authorship_tag": "ABX9TyNgVEcOoIsutZsR30OWSQVZ",
      "include_colab_link": true
    },
    "kernelspec": {
      "name": "python3",
      "display_name": "Python 3"
    },
    "language_info": {
      "name": "python"
    }
  },
  "cells": [
    {
      "cell_type": "markdown",
      "metadata": {
        "id": "view-in-github",
        "colab_type": "text"
      },
      "source": [
        "<a href=\"https://colab.research.google.com/github/xs2445/Algorithms/blob/main/LinkedList.ipynb\" target=\"_parent\"><img src=\"https://colab.research.google.com/assets/colab-badge.svg\" alt=\"Open In Colab\"/></a>"
      ]
    },
    {
      "cell_type": "markdown",
      "source": [
        "# LinkedList\n",
        "\n",
        "[707 [M] Design Linked List](#707)\n",
        "\n",
        "[19 [M] Remove Nth Node From End of List](#19)\n",
        "\n",
        "[206 [E] Reverse Linked List](#206)\n",
        "\n",
        "[92 [M] Reverse Linked List II](#92)\n",
        "\n",
        "[24 [M] Swap Nodes in Pairs](#24)\n",
        "\n",
        "[25 [H] Reverse Nodes in k-Group](#25)\n",
        "\n",
        "[141 [E] Linked List Cycle](#141)\n",
        "\n",
        "[142 [M] Linked List Cycle II](#142)\n",
        "\n",
        "[160 [E] Intersection of Two Linked Lists](#160)\n"
      ],
      "metadata": {
        "id": "sh4gND1JpSvK"
      }
    },
    {
      "cell_type": "code",
      "source": [
        "from typing import List, Optional\n",
        "\n",
        "class ListNode:\n",
        "    def __init__(self, x):\n",
        "        self.val = x\n",
        "        self.next = None"
      ],
      "metadata": {
        "id": "OfXEvaGovnBD"
      },
      "execution_count": 2,
      "outputs": []
    },
    {
      "cell_type": "markdown",
      "source": [
        "<a name=\"707\"></a>\n",
        "\n",
        "## 707 [M] Design Linked List\n",
        "\n"
      ],
      "metadata": {
        "id": "b9f9FLlkT_ic"
      }
    },
    {
      "cell_type": "code",
      "source": [
        "class MyLinkedList:\n",
        "\n",
        "    def __init__(self):\n",
        "        self.size = 0\n",
        "        self.head = ListNode(-1)\n",
        "\n",
        "    def get(self, index: int) -> int:\n",
        "        # if index is invalid\n",
        "        if index < 0 or index >= self.size:\n",
        "            return -1\n",
        "        curr = self.head\n",
        "        for _ in range(index+1):\n",
        "            curr = curr.next\n",
        "        return curr.val\n",
        "\n",
        "    def addAtHead(self, val: int) -> None:\n",
        "        self.addAtIndex(0, val)\n",
        "\n",
        "    def addAtTail(self, val: int) -> None:\n",
        "        self.addAtIndex(self.size, val)\n",
        "\n",
        "    def addAtIndex(self, index: int, val: int) -> None:\n",
        "        # if index larger or smaller than the range\n",
        "        if index > self.size or index < 0:\n",
        "            return \n",
        "        # comfirm node is added\n",
        "        self.size += 1\n",
        "        pred = self.head\n",
        "        # addAtIndex([0,2])\n",
        "        # -1 -> 1 -> 2\n",
        "        # -1 -> (2) -> 1 -> 2\n",
        "        #\n",
        "        #addAtIndex([3,1])\n",
        "        # -1 -> 2 -> 1 -> 2\n",
        "        # -1 -> 2 -> 1 -> 2 -> (1)\n",
        "        # get the predecessor\n",
        "        for _ in range(index):\n",
        "            pred = pred.next\n",
        "        add_node = ListNode(val, pred.next)\n",
        "        pred.next = add_node\n",
        "\n",
        "    def deleteAtIndex(self, index: int) -> None:\n",
        "        if index < 0 or index >= self.size:\n",
        "            return\n",
        "        self.size -= 1\n",
        "        pred = self.head\n",
        "        for _ in range(index):\n",
        "            pred = pred.next\n",
        "        pred.next = pred.next.next"
      ],
      "metadata": {
        "id": "UyF1686rUHhq"
      },
      "execution_count": null,
      "outputs": []
    },
    {
      "cell_type": "code",
      "source": [
        "[\"MyLinkedList\",\"addAtHead\",\"addAtTail\",\"addAtIndex\",\"get\",\"deleteAtIndex\",\"get\"]\n",
        "[[],[1],[3],[1,2],[1],[1],[1]]"
      ],
      "metadata": {
        "id": "p2R3dEC2DySy"
      },
      "execution_count": null,
      "outputs": []
    },
    {
      "cell_type": "markdown",
      "source": [
        "<a name=\"19\"></a>\n",
        "\n",
        "## 19 [M] Remove Nth Node From End of List"
      ],
      "metadata": {
        "id": "14FkGXewvXnc"
      }
    },
    {
      "cell_type": "code",
      "execution_count": null,
      "metadata": {
        "id": "33XcqrTqpQap"
      },
      "outputs": [],
      "source": [
        "# Definition for singly-linked list.\n",
        "# add dummy node pointing to the head\n",
        "# slow implementation\n",
        "\n",
        "class Solution:\n",
        "    def removeNthFromEnd(self, head: Optional[ListNode], n: int) -> Optional[ListNode]:\n",
        "        dummy = ListNode(next=head)\n",
        "        curr = dummy\n",
        "        # traverse first to get the length\n",
        "        length = 0\n",
        "        while curr.next:\n",
        "            length += 1\n",
        "            curr = curr.next\n",
        "        # get the node one step before the node that is going to be deleted\n",
        "        curr = dummy\n",
        "        for _ in range(length-n):\n",
        "            curr = curr.next\n",
        "        # the node gonna be deleted\n",
        "        node_delete = curr.next\n",
        "        if node_delete.next:\n",
        "            curr.next = node_delete.next\n",
        "        else:\n",
        "            curr.next= None\n",
        "\n",
        "        return dummy.next\n",
        "\n",
        "        "
      ]
    },
    {
      "cell_type": "code",
      "source": [
        "# Definition for singly-linked list.\n",
        "# add dummy node pointing to the head\n",
        "# add a faster node that is n+1 steps faster than the current node\n",
        "# faster than 35.8%, still slow\n",
        "\n",
        "class Solution:\n",
        "    def removeNthFromEnd(self, head: Optional[ListNode], n: int) -> Optional[ListNode]:\n",
        "        dummy = ListNode(next=head)\n",
        "        curr = fast = dummy\n",
        "        for _ in range(n):\n",
        "            fast = fast.next\n",
        "        while fast.next:\n",
        "            fast = fast.next\n",
        "            curr = curr.next\n",
        "        # the node gonna be deleted\n",
        "        node_delete = curr.next\n",
        "        if node_delete.next:\n",
        "            curr.next = node_delete.next\n",
        "        else:\n",
        "            curr.next= None\n",
        "        \n",
        "        return dummy.next"
      ],
      "metadata": {
        "id": "IotS0SDJ8Tjy"
      },
      "execution_count": null,
      "outputs": []
    },
    {
      "cell_type": "code",
      "source": [
        "# Definition for singly-linked list.\n",
        "# faster than 79.4% (from leetcode comment)\n",
        "\n",
        "class Solution:\n",
        "    def removeNthFromEnd(self, head: Optional[ListNode], n: int) -> Optional[ListNode]:\n",
        "        curr = head\n",
        "        length = 0\n",
        "        while curr:\n",
        "            length += 1\n",
        "            curr = curr.next\n",
        "        if length == 1:\n",
        "            return None\n",
        "        if length == n:\n",
        "            head = head.next\n",
        "            return head\n",
        "        curr = head\n",
        "        for i in range(length-n-1):\n",
        "            curr = curr.next\n",
        "        curr.next = curr.next.next\n",
        "        return head"
      ],
      "metadata": {
        "id": "lbPf6ghi9o77"
      },
      "execution_count": null,
      "outputs": []
    },
    {
      "cell_type": "code",
      "source": [
        "nodes = ListNode(1)\n",
        "n = 1\n",
        "sol = Solution()\n",
        "print(sol.removeNthFromEnd(nodes, n))"
      ],
      "metadata": {
        "colab": {
          "base_uri": "https://localhost:8080/"
        },
        "id": "Gl5Uqm9Tw5Z7",
        "outputId": "f365bb1c-b363-44a2-a9b5-71efab1b1fc5"
      },
      "execution_count": null,
      "outputs": [
        {
          "output_type": "stream",
          "name": "stdout",
          "text": [
            "None\n"
          ]
        }
      ]
    },
    {
      "cell_type": "markdown",
      "source": [
        "<a name=\"206\"></a>\n",
        "\n",
        "## 206 [E] Reverse Linked List"
      ],
      "metadata": {
        "id": "PeOSpVYi6gid"
      }
    },
    {
      "cell_type": "code",
      "source": [
        "# iteration\n",
        "\n",
        "class Solution:\n",
        "    def reverseList(self, head: Optional[ListNode]) -> Optional[ListNode]:\n",
        "        new_head = None\n",
        "        ptr = head\n",
        "        while ptr:\n",
        "            successor = ptr.next\n",
        "            ptr.next = new_head\n",
        "            new_head = ptr\n",
        "            ptr = successor\n",
        "        return new_head"
      ],
      "metadata": {
        "id": "SljvpyAS6lkK"
      },
      "execution_count": null,
      "outputs": []
    },
    {
      "cell_type": "code",
      "source": [
        "# recurssion\n",
        "\n",
        "class Solution:\n",
        "    def reverseList(self, head: Optional[ListNode]) -> Optional[ListNode]:\n",
        "        # return the last element of the linked list\n",
        "        if head is None or head.next is None:\n",
        "            return head\n",
        "        \n",
        "        # new_head is the last element of the linked list, which is the head of \n",
        "        # reversed linked list \n",
        "        # new_head will be passed to the first call of this function\n",
        "        new_head = self.reverseList(head.next)\n",
        "        # inverse the arrow between head and head.next\n",
        "        # from:\n",
        "        # 2 -> 3 <- 4\n",
        "        # to:\n",
        "        # 2 <-> 3 <- 4\n",
        "        head.next.next = head\n",
        "        # to:\n",
        "        # 2 <- 3 <- 4\n",
        "        head.next = None\n",
        "\n",
        "        return new_head"
      ],
      "metadata": {
        "id": "tH1xuf149HVc"
      },
      "execution_count": null,
      "outputs": []
    },
    {
      "cell_type": "code",
      "source": [
        "# another recursion\n",
        "# very fast\n",
        "class Solution:\n",
        "    def reverseList(self, head: Optional[ListNode]) -> Optional[ListNode]:\n",
        "\n",
        "        def _reverse(node, prev=None):\n",
        "            if not node:\n",
        "                return prev\n",
        "            successor = node.next\n",
        "            node.next = prev\n",
        "\n",
        "            return _reverse(successor, node)\n",
        "\n",
        "        return _reverse(head)"
      ],
      "metadata": {
        "id": "7zi3XPPoEGdj"
      },
      "execution_count": null,
      "outputs": []
    },
    {
      "cell_type": "markdown",
      "source": [
        "<a name=\"92\"></a>\n",
        "\n",
        "## 92 [M] Reverse Linked List II"
      ],
      "metadata": {
        "id": "scyer6qoSIDs"
      }
    },
    {
      "cell_type": "code",
      "source": [
        "# iterative solution\n",
        "\n",
        "class Solution:\n",
        "    def reverseBetween(self, head: Optional[ListNode], left: int, right: int) -> Optional[ListNode]:\n",
        "        # if empty list then return none\n",
        "        if head is None:\n",
        "            return None\n",
        "        # length of the list\n",
        "        l = right - left + 1\n",
        "        dummy = ListNode(-1, head)\n",
        "        new_head = dummy\n",
        "        # 0-indexed list\n",
        "        for _ in range(left-1):\n",
        "            new_head = new_head.next\n",
        "        # point to the first element of the list\n",
        "        pred = new_head\n",
        "        ptr = new_tail = new_head.next\n",
        "        while l:\n",
        "            next_node = ptr.next\n",
        "            ptr.next = new_head\n",
        "            new_head = ptr\n",
        "            ptr = next_node\n",
        "            l -= 1\n",
        "        # the sub-linked-list is reversed, the head is tail, tail is head\n",
        "        # previous tail is the head now, the predecessor needs to link to it.\n",
        "        pred.next = new_head\n",
        "        # previous head is the tail now, still linked to the predecessor which can cause a cycle\n",
        "        new_tail.next = ptr\n",
        "        \n",
        "        return dummy.next   \n",
        "            "
      ],
      "metadata": {
        "id": "SPzq1RoESNU3"
      },
      "execution_count": null,
      "outputs": []
    },
    {
      "cell_type": "code",
      "source": [
        "# recursive solution\n",
        "\n",
        "class Solution:\n",
        "    def reverseBetween(self, head: Optional[ListNode], left: int, right: int) -> Optional[ListNode]:\n",
        "        if head is None:\n",
        "            return None\n",
        "        node_l, node_r = head, head\n",
        "        stop = False\n",
        "        def reverseRecursively(node_r, m, n):\n",
        "            nonlocal node_l, stop\n",
        "\n",
        "            # move to the right position\n",
        "            if n == 1:\n",
        "                return\n",
        "            \n",
        "\n",
        "        \n",
        "\n",
        "        reverseRecursively(right, m, n)\n",
        "        return head\n",
        "        \n",
        "        \n",
        "            "
      ],
      "metadata": {
        "id": "1IwKXSimW1CG"
      },
      "execution_count": null,
      "outputs": []
    },
    {
      "cell_type": "markdown",
      "source": [
        "<a name=\"24\"></a>\n",
        "\n",
        "## 24 [M] Swap Nodes in Pairs"
      ],
      "metadata": {
        "id": "XkVhVCl1_vlx"
      }
    },
    {
      "cell_type": "code",
      "source": [
        "# Definition for singly-linked list.\n",
        "# iteratively swap\n",
        "# slow\n",
        "\n",
        "class Solution:\n",
        "    def swapPairs(self, head: Optional[ListNode]) -> Optional[ListNode]:\n",
        "        if head is None or head.next is None:\n",
        "            return head\n",
        "        dummy = ListNode(next=head)\n",
        "        prev = dummy\n",
        "        curr = head\n",
        "\n",
        "        while curr and curr.next:\n",
        "            \n",
        "            left, right = curr, curr.next\n",
        "            prev.next = right\n",
        "\n",
        "            left.next = right.next\n",
        "            right.next = left\n",
        "\n",
        "            curr = left.next\n",
        "            prev = left\n",
        "\n",
        "        return dummy.next\n",
        "\n"
      ],
      "metadata": {
        "id": "OicR-IjF1uAA"
      },
      "execution_count": null,
      "outputs": []
    },
    {
      "cell_type": "code",
      "source": [
        "# recursion\n",
        "# faster than iterative implementation\n",
        "\n",
        "class Solution(object):\n",
        "    def swapPairs(self, head: ListNode) -> ListNode:\n",
        "        if head is None or head.next is None:\n",
        "            return head\n",
        "        \n",
        "        left = head\n",
        "        right = head.next\n",
        "\n",
        "        left.next = self.swapPairs(right.next)\n",
        "        right.next = left\n",
        "\n",
        "        return right\n",
        "        "
      ],
      "metadata": {
        "id": "nAkOoLOZIVMn"
      },
      "execution_count": null,
      "outputs": []
    },
    {
      "cell_type": "markdown",
      "source": [
        "<a name=\"25\"></a>\n",
        "\n",
        "## 25 [H] Reverse Nodes in k-Group"
      ],
      "metadata": {
        "id": "3XzP1f6QJz9m"
      }
    },
    {
      "cell_type": "code",
      "source": [
        "# \n",
        "\n",
        "class Solution:\n",
        "    def reverseKGroup(self, head: Optional[ListNode], k: int) -> Optional[ListNode]:\n",
        "        ptr = head\n",
        "        count = 0\n",
        "\n",
        "        # iterate for k element\n",
        "        while count < k and ptr:\n",
        "            ptr = ptr.next\n",
        "            count += 1\n",
        "        \n",
        "        # if there's at least k elements in the list\n",
        "        if count == k:\n",
        "            # reverse this nodelist\n",
        "            new_head = self.reverseLinkList(head, k)\n",
        "            # then revursively call function to the rest node list\n",
        "            # now the head is the tail of reversed linkedlist\n",
        "            head.next = self.reverseKGroup(ptr,k)\n",
        "            # then return the new head\n",
        "            return new_head\n",
        "        # if not enough k elements in the list, then return the head of this list\n",
        "        return head\n",
        "        \n",
        "    def reverseLinkList(self, head: Optional[ListNode], k: int) -> Optional[ListNode]:\n",
        "        new_head, ptr = None, head\n",
        "        while k:\n",
        "            succ = ptr.next\n",
        "            ptr.next = new_head\n",
        "            new_head = ptr\n",
        "            ptr = succ\n",
        "            k -= 1\n",
        "        return new_head\n",
        "    "
      ],
      "metadata": {
        "id": "zZ7HGNiCJzXy"
      },
      "execution_count": null,
      "outputs": []
    },
    {
      "cell_type": "markdown",
      "source": [
        "<a name=\"141\"></a>\n",
        "\n",
        "## 141 [E] Linked List Cycle"
      ],
      "metadata": {
        "id": "4Po68xHYF4iR"
      }
    },
    {
      "cell_type": "code",
      "source": [
        "# hash table\n",
        "# remember the node's address\n",
        "\n",
        "class Solution:\n",
        "    def hasCycle(self, head: Optional[ListNode]) -> bool:\n",
        "        node_seen = set()\n",
        "        while head:\n",
        "            if head in node_seen:\n",
        "                return True\n",
        "            node_seen.add(head)\n",
        "            head = head.next\n",
        "        return False"
      ],
      "metadata": {
        "id": "-MMJKFjgG2xN"
      },
      "execution_count": null,
      "outputs": []
    },
    {
      "cell_type": "code",
      "source": [
        "# Floyd's cycle finding algorithm\n",
        "# slow fast pointer\n",
        "# slow pointer moves 1 step a time; fast pointer moves 2 steps a time\n",
        "# they will definitely eventually meet each other if there is a cycle\n",
        "\n",
        "class Solution:\n",
        "    def hasCycle(self, head: Optional[ListNode]) -> bool:\n",
        "        if head is None:\n",
        "            return False\n",
        "        slow = head\n",
        "        fast = head.next\n",
        "        # if fast and slow meet each other then return True\n",
        "        while slow != fast:\n",
        "            # if fast reach the end, then no cycle, return False\n",
        "            if fast is None or fast.next is None:\n",
        "                return False\n",
        "            slow = slow.next\n",
        "            fast = fast.next.next\n",
        "\n",
        "        return True"
      ],
      "metadata": {
        "id": "6xDvKXrSLS7G"
      },
      "execution_count": null,
      "outputs": []
    },
    {
      "cell_type": "markdown",
      "source": [
        "<a name=\"142\"></a>\n",
        "\n",
        "## 142 [M] Linked List Cycle II"
      ],
      "metadata": {
        "id": "gngb52gmF5na"
      }
    },
    {
      "cell_type": "code",
      "source": [
        "# hashtable\n",
        "\n",
        "class Solution:\n",
        "    def detectCycle(self, head: Optional[ListNode]) -> Optional[ListNode]:\n",
        "        seen = set()\n",
        "        while head:\n",
        "            if head in seen:\n",
        "                return head\n",
        "            seen.add(head)\n",
        "            head = head.next\n",
        "        return None"
      ],
      "metadata": {
        "id": "psj1KI85G3Fm"
      },
      "execution_count": null,
      "outputs": []
    },
    {
      "cell_type": "markdown",
      "source": [
        "![image.png](data:image/png;base64,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)"
      ],
      "metadata": {
        "id": "Nd3Svdp2OWYa"
      }
    },
    {
      "cell_type": "code",
      "source": [
        "# Floyd's Tortoise and Hare\n",
        "# F + a = nC\n",
        "# F = nC - a\n",
        "# so: F = b\n",
        "class Solution:\n",
        "    def detectCycle(self, head: Optional[ListNode]) -> Optional[ListNode]:\n",
        "        if head is None or head.next is None:\n",
        "            return None\n",
        "        \n",
        "        # slow and fast needs to start from the same point to make F=b\n",
        "        slow = fast = head\n",
        "        \n",
        "        # find cycle and the meet point\n",
        "        while True:\n",
        "            if fast is None or fast.next is None:\n",
        "                return None\n",
        "            slow = slow.next\n",
        "            fast = fast.next.next\n",
        "            if slow == fast:\n",
        "                break\n",
        "            \n",
        "        ptr_1 = head\n",
        "        ptr_2 = slow\n",
        "\n",
        "        while ptr_1 != ptr_2:\n",
        "            ptr_1 = ptr_1.next\n",
        "            ptr_2 = ptr_2.next\n",
        "            \n",
        "        return ptr_1"
      ],
      "metadata": {
        "id": "XqOjaA1JNfG1"
      },
      "execution_count": null,
      "outputs": []
    },
    {
      "cell_type": "markdown",
      "source": [
        "<a name=\"160\"></a>\n",
        "\n",
        "## 160 [E] Intersection of Two Linked Lists\n"
      ],
      "metadata": {
        "id": "quuC3hPlF5vX"
      }
    },
    {
      "cell_type": "code",
      "source": [
        "# hashtable\n",
        "# add both nodes when proceed\n",
        "class Solution:\n",
        "    def getIntersectionNode(self, headA: ListNode, headB: ListNode) -> Optional[ListNode]:\n",
        "        if headA is None or headB is None:\n",
        "            return None\n",
        "        \n",
        "        seen = set()\n",
        "\n",
        "        while headA or headB:\n",
        "            if headA is not None:\n",
        "                if headA in seen:\n",
        "                    return headA\n",
        "                seen.add(headA)\n",
        "                headA = headA.next\n",
        "            if headB is not None:\n",
        "                if headB in seen:\n",
        "                    return headB\n",
        "                seen.add(headB)\n",
        "                headB = headB.next\n",
        "\n",
        "        return None"
      ],
      "metadata": {
        "id": "XSwtW56YG3dy"
      },
      "execution_count": null,
      "outputs": []
    },
    {
      "cell_type": "code",
      "source": [
        "# hashtable 2\n",
        "# traverse and add one linked list first, then check if the other is in the table\n",
        "# slower than the first one for test cases\n",
        "class Solution:\n",
        "    def getIntersectionNode(self, headA: ListNode, headB: ListNode) -> Optional[ListNode]:\n",
        "        if headA is None or headB is None:\n",
        "            return None\n",
        "        \n",
        "        setA = set()\n",
        "\n",
        "        while headA:\n",
        "            setA.add(headA)\n",
        "            headA = headA.next\n",
        "\n",
        "        while headB:\n",
        "            if headB in setA:\n",
        "                return headB\n",
        "            headB = headB.next\n",
        "\n",
        "        return None"
      ],
      "metadata": {
        "id": "ws9C4gbpWDuU"
      },
      "execution_count": null,
      "outputs": []
    },
    {
      "cell_type": "markdown",
      "source": [
        "![image.png](data:image/png;base64,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)"
      ],
      "metadata": {
        "id": "VJ5Ir6QLX4Oe"
      }
    },
    {
      "cell_type": "code",
      "source": [
        "# two pointers\n",
        "# traverse both list and change to the other list respectively if reach the en\n",
        "# then after a+c+b == b+c+a two pointers will definitely meet each other\n",
        "# at the intersection\n",
        "# O(1) space needed\n",
        "\n",
        "# if there's no intersection, then still a+b == b+a\n",
        "# two pointers will meet at None when traversed both lists\n",
        "\n",
        "class Solution:\n",
        "    def getIntersectionNode(self, headA: ListNode, headB: ListNode) -> Optional[ListNode]:\n",
        "        if headA is None or headB is None:\n",
        "            return None\n",
        "        \n",
        "        pA, pB = headA, headB\n",
        "\n",
        "        while pA != pB:\n",
        "            pA = headB if pA is None else pA.next\n",
        "            pB = headA if pB is None else pB.next\n",
        "            \n",
        "        return pA"
      ],
      "metadata": {
        "id": "Qpf3nT35WtbW"
      },
      "execution_count": null,
      "outputs": []
    }
  ]
}